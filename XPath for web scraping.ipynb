{
 "cells": [
  {
   "cell_type": "markdown",
   "metadata": {
    "slideshow": {
     "slide_type": "slide"
    }
   },
   "source": [
    "# XPath\n",
    "\n",
    "_\"XPath is a language for addressing parts of an XML document\"_ -- http://www.w3.org/TR/xpath/"
   ]
  },
  {
   "cell_type": "markdown",
   "metadata": {
    "slideshow": {
     "slide_type": "fragment"
    }
   },
   "source": [
    "# Document model"
   ]
  },
  {
   "cell_type": "code",
   "execution_count": 1,
   "metadata": {
    "collapsed": true,
    "slideshow": {
     "slide_type": "fragment"
    }
   },
   "outputs": [],
   "source": [
    "import lxml.html\n",
    "\n",
    "sample =\"\"\"\n",
    "<html>\n",
    " <head>\n",
    "  <title>Ceci est un titre</title>\n",
    "  <meta http-equiv=\"content-type\" content=\"text/html;charset=utf-8\" />\n",
    " </head>\n",
    " <body>\n",
    "  <div>\n",
    "   <div>\n",
    "    <p>Ceci est un paragraphe.</p>\n",
    "    <p>Ceci est-il <a href=\"page2.html\">un lien</a>?</p>\n",
    "    <br>\n",
    "    Apparemment.\n",
    "   </div>\n",
    "   <div>\n",
    "    Rien &agrave; ajouter.\n",
    "    Sauf cet <a href=\"page3.html\">autre lien</a>.\n",
    "    <!-- Et ce commentaire -->\n",
    "   </div>\n",
    "  </div>\n",
    " </body>\n",
    "</html>\n",
    "\"\"\"\n",
    "\n",
    "root = lxml.html.fromstring(sample)"
   ]
  },
  {
   "cell_type": "markdown",
   "metadata": {},
   "source": [
    "The model considers different node types:\n",
    "\n",
    "- element nodes: `<p>...</p>`\n",
    "- attribute nodes: `href=\"page2.html\"`\n",
    "- comment nodes: `<!-- ceci est un commentaire -->`\n",
    "- text nodes (\"Character data\"): `Rien à ajouter`\n",
    "- 3 others: processing instructions, root nodes and namespace nodes\n",
    "\n",
    "Nodes have an order in the tree, the order they appear in the HTML source (a.k.a \"document order\")"
   ]
  },
  {
   "cell_type": "code",
   "execution_count": 2,
   "metadata": {
    "collapsed": false
   },
   "outputs": [
    {
     "name": "stdout",
     "output_type": "stream",
     "text": [
      "--------------\n",
      "<html>\n",
      " <head>\n",
      "  <title>Ceci est un titre</title>\n",
      "  <meta http-equiv=\"content-type\" content=\"text/ht...\n",
      "--------------\n",
      "<head>\n",
      "  <title>Ceci est un titre</title>\n",
      "  <meta http-equiv=\"content-type\" content=\"text/html;chars...\n",
      "--------------\n",
      "<title>Ceci est un titre</title>\n",
      "  ...\n",
      "--------------\n",
      "<meta http-equiv=\"content-type\" content=\"text/html;charset=utf-8\">\n",
      " ...\n",
      "--------------\n",
      "<body>\n",
      "  <div>\n",
      "   <div>\n",
      "    <p>Ceci est un paragraphe.</p>\n",
      "    <p>Ceci est-il <a href=\"page2.html\">u...\n",
      "--------------\n",
      "<div>\n",
      "   <div>\n",
      "    <p>Ceci est un paragraphe.</p>\n",
      "    <p>Ceci est-il <a href=\"page2.html\">un lien</a...\n",
      "--------------\n",
      "<div>\n",
      "    <p>Ceci est un paragraphe.</p>\n",
      "    <p>Ceci est-il <a href=\"page2.html\">un lien</a>?</p>\n",
      "  ...\n",
      "--------------\n",
      "<p>Ceci est un paragraphe.</p>\n",
      "    ...\n",
      "--------------\n",
      "<p>Ceci est-il <a href=\"page2.html\">un lien</a>?</p>\n",
      "    ...\n",
      "--------------\n",
      "<a href=\"page2.html\">un lien</a>?...\n",
      "--------------\n",
      "<br>\n",
      "    Apparemment.\n",
      "   ...\n",
      "--------------\n",
      "<div>\n",
      "    Rien &#224; ajouter.\n",
      "    Sauf cet <a href=\"page3.html\">autre lien</a>.\n",
      "    <!-- Et ce comm...\n",
      "--------------\n",
      "<a href=\"page3.html\">autre lien</a>.\n",
      "    ...\n",
      "--------------\n",
      "<!-- Et ce commentaire -->\n",
      "   ...\n"
     ]
    }
   ],
   "source": [
    "# lxml's .iter() outputs elements in document order\n",
    "# http://lxml.de/tutorial.html#tree-iteration\n",
    "\n",
    "for element in root.iter():\n",
    "    print \"--------------\"\n",
    "    print lxml.html.tostring(element)[:100]+\"...\""
   ]
  },
  {
   "cell_type": "markdown",
   "metadata": {},
   "source": [
    "# Simple expressions to explore node types"
   ]
  },
  {
   "cell_type": "code",
   "execution_count": 3,
   "metadata": {
    "collapsed": false
   },
   "outputs": [
    {
     "data": {
      "text/plain": [
       "[]"
      ]
     },
     "execution_count": 3,
     "metadata": {},
     "output_type": "execute_result"
    }
   ],
   "source": [
    "# A / by itself selects the root node of the document containing the context node.\n",
    "# the root node is NOT <html>...</html>\n",
    "# <html> is a child of the root node: cf. http://www.w3.org/TR/xpath/#root-node\n",
    "root.xpath('/')"
   ]
  },
  {
   "cell_type": "code",
   "execution_count": 7,
   "metadata": {
    "collapsed": false
   },
   "outputs": [
    {
     "data": {
      "text/plain": [
       "[<Element html at 0x7f40fc08d520>]"
      ]
     },
     "execution_count": 7,
     "metadata": {},
     "output_type": "execute_result"
    }
   ],
   "source": [
    "root.xpath('/ child :: html')"
   ]
  },
  {
   "cell_type": "code",
   "execution_count": 5,
   "metadata": {
    "collapsed": false
   },
   "outputs": [
    {
     "data": {
      "text/plain": [
       "[]"
      ]
     },
     "execution_count": 5,
     "metadata": {},
     "output_type": "execute_result"
    }
   ],
   "source": [
    "# no <p> child of the root node\n",
    "root.xpath('/p')"
   ]
  },
  {
   "cell_type": "code",
   "execution_count": 6,
   "metadata": {
    "collapsed": false
   },
   "outputs": [
    {
     "data": {
      "text/plain": [
       "[<Element html at 0x7f3188856a48>,\n",
       " <Element head at 0x7f3178652838>,\n",
       " <Element title at 0x7f3178652890>,\n",
       " <Element meta at 0x7f31786528e8>,\n",
       " <Element body at 0x7f3178652940>,\n",
       " <Element div at 0x7f3178652998>,\n",
       " <Element div at 0x7f31786529f0>,\n",
       " <Element p at 0x7f3178652a48>,\n",
       " <Element p at 0x7f3178652aa0>,\n",
       " <Element a at 0x7f3178652af8>,\n",
       " <Element br at 0x7f3178652b50>,\n",
       " <Element div at 0x7f3178652ba8>,\n",
       " <Element a at 0x7f3178652c00>]"
      ]
     },
     "execution_count": 6,
     "metadata": {},
     "output_type": "execute_result"
    }
   ],
   "source": [
    "# all decendants of the root node: all elements\n",
    "root.xpath('//*') # lxml outputs nodes in document order"
   ]
  },
  {
   "cell_type": "code",
   "execution_count": 7,
   "metadata": {
    "collapsed": false
   },
   "outputs": [
    {
     "name": "stdout",
     "output_type": "stream",
     "text": [
      "---------------\n",
      "<html>\n",
      " <head>\n",
      "  <title>Ceci est un titre</title>\n",
      "  <meta http-equiv=\"content-type\" content=\"text/ht...\n",
      "---------------\n",
      "<head>\n",
      "  <title>Ceci est un titre</title>\n",
      "  <meta http-equiv=\"content-type\" content=\"text/html;chars...\n",
      "---------------\n",
      "<title>Ceci est un titre</title>\n",
      "  ...\n",
      "---------------\n",
      "<meta http-equiv=\"content-type\" content=\"text/html;charset=utf-8\">\n",
      " ...\n",
      "---------------\n",
      "<body>\n",
      "  <div>\n",
      "   <div>\n",
      "    <p>Ceci est un paragraphe.</p>\n",
      "    <p>Ceci est-il <a href=\"page2.html\">u...\n",
      "---------------\n",
      "<div>\n",
      "   <div>\n",
      "    <p>Ceci est un paragraphe.</p>\n",
      "    <p>Ceci est-il <a href=\"page2.html\">un lien</a...\n",
      "---------------\n",
      "<div>\n",
      "    <p>Ceci est un paragraphe.</p>\n",
      "    <p>Ceci est-il <a href=\"page2.html\">un lien</a>?</p>\n",
      "  ...\n",
      "---------------\n",
      "<p>Ceci est un paragraphe.</p>\n",
      "    ...\n",
      "---------------\n",
      "<p>Ceci est-il <a href=\"page2.html\">un lien</a>?</p>\n",
      "    ...\n",
      "---------------\n",
      "<a href=\"page2.html\">un lien</a>?...\n",
      "---------------\n",
      "<br>\n",
      "    Apparemment.\n",
      "   ...\n",
      "---------------\n",
      "<div>\n",
      "    Rien &#224; ajouter.\n",
      "    Sauf cet <a href=\"page3.html\">autre lien</a>.\n",
      "    <!-- Et ce comm...\n",
      "---------------\n",
      "<a href=\"page3.html\">autre lien</a>.\n",
      "    ...\n"
     ]
    }
   ],
   "source": [
    "from pprint import pprint\n",
    "\n",
    "for e in root.xpath('//*'):\n",
    "    print \"---------------\"\n",
    "    print lxml.html.tostring(e)[:100]+\"...\""
   ]
  },
  {
   "cell_type": "code",
   "execution_count": 8,
   "metadata": {
    "collapsed": false
   },
   "outputs": [
    {
     "data": {
      "text/plain": [
       "False"
      ]
     },
     "execution_count": 8,
     "metadata": {},
     "output_type": "execute_result"
    }
   ],
   "source": [
    "# `*` does not select _all nodes_, but only element nodes, neither text nor attributes\n",
    "root.xpath('//node()') == root.xpath('//*')"
   ]
  },
  {
   "cell_type": "code",
   "execution_count": 9,
   "metadata": {
    "collapsed": false
   },
   "outputs": [
    {
     "data": {
      "text/plain": [
       "[<Element html at 0x7f3188856a48>,\n",
       " '\\n ',\n",
       " <Element head at 0x7f3178652838>,\n",
       " '\\n  ',\n",
       " <Element title at 0x7f3178652890>,\n",
       " 'Ceci est un titre',\n",
       " '\\n  ',\n",
       " <Element meta at 0x7f31786528e8>,\n",
       " '\\n ',\n",
       " '\\n ',\n",
       " <Element body at 0x7f3178652940>,\n",
       " '\\n  ',\n",
       " <Element div at 0x7f3178652998>,\n",
       " '\\n   ',\n",
       " <Element div at 0x7f31786529f0>,\n",
       " '\\n    ',\n",
       " <Element p at 0x7f3178652a48>,\n",
       " 'Ceci est un paragraphe.',\n",
       " '\\n    ',\n",
       " <Element p at 0x7f3178652aa0>,\n",
       " 'Ceci est-il ',\n",
       " <Element a at 0x7f3178652af8>,\n",
       " 'un lien',\n",
       " '?',\n",
       " '\\n    ',\n",
       " <Element br at 0x7f3178652b50>,\n",
       " '\\n    Apparemment.\\n   ',\n",
       " '\\n   ',\n",
       " <Element div at 0x7f3178652ba8>,\n",
       " u'\\n    Rien \\xe0 ajouter.\\n    Sauf cet ',\n",
       " <Element a at 0x7f3178652c00>,\n",
       " 'autre lien',\n",
       " '.\\n    ',\n",
       " <!-- Et ce commentaire -->,\n",
       " '\\n   ',\n",
       " '\\n  ',\n",
       " '\\n ',\n",
       " '\\n']"
      ]
     },
     "execution_count": 9,
     "metadata": {},
     "output_type": "execute_result"
    }
   ],
   "source": [
    "root.xpath('//node()')"
   ]
  },
  {
   "cell_type": "code",
   "execution_count": 10,
   "metadata": {
    "collapsed": false
   },
   "outputs": [
    {
     "data": {
      "text/plain": [
       "['\\n ',\n",
       " '\\n  ',\n",
       " 'Ceci est un titre',\n",
       " '\\n  ',\n",
       " '\\n ',\n",
       " '\\n ',\n",
       " '\\n  ',\n",
       " '\\n   ',\n",
       " '\\n    ',\n",
       " 'Ceci est un paragraphe.',\n",
       " '\\n    ',\n",
       " 'Ceci est-il ',\n",
       " 'un lien',\n",
       " '?',\n",
       " '\\n    ',\n",
       " '\\n    Apparemment.\\n   ',\n",
       " '\\n   ',\n",
       " u'\\n    Rien \\xe0 ajouter.\\n    Sauf cet ',\n",
       " 'autre lien',\n",
       " '.\\n    ',\n",
       " '\\n   ',\n",
       " '\\n  ',\n",
       " '\\n ',\n",
       " '\\n']"
      ]
     },
     "execution_count": 10,
     "metadata": {},
     "output_type": "execute_result"
    }
   ],
   "source": [
    "# select text nodes\n",
    "root.xpath('//text()')"
   ]
  },
  {
   "cell_type": "code",
   "execution_count": 11,
   "metadata": {
    "collapsed": false
   },
   "outputs": [
    {
     "data": {
      "text/plain": [
       "[<!-- Et ce commentaire -->]"
      ]
     },
     "execution_count": 11,
     "metadata": {},
     "output_type": "execute_result"
    }
   ],
   "source": [
    "# comment nodes\n",
    "root.xpath('//comment()')"
   ]
  },
  {
   "cell_type": "code",
   "execution_count": 12,
   "metadata": {
    "collapsed": false
   },
   "outputs": [
    {
     "ename": "XPathEvalError",
     "evalue": "Invalid expression",
     "output_type": "error",
     "traceback": [
      "\u001b[1;31m---------------------------------------------------------------------------\u001b[0m",
      "\u001b[1;31mXPathEvalError\u001b[0m                            Traceback (most recent call last)",
      "\u001b[1;32m<ipython-input-12-63fc5fcd826c>\u001b[0m in \u001b[0;36m<module>\u001b[1;34m()\u001b[0m\n\u001b[0;32m      1\u001b[0m \u001b[1;31m# you cannot do that...\u001b[0m\u001b[1;33m\u001b[0m\u001b[1;33m\u001b[0m\u001b[0m\n\u001b[1;32m----> 2\u001b[1;33m \u001b[0mroot\u001b[0m\u001b[1;33m.\u001b[0m\u001b[0mxpath\u001b[0m\u001b[1;33m(\u001b[0m\u001b[1;34m'//attribute()'\u001b[0m\u001b[1;33m)\u001b[0m\u001b[1;33m\u001b[0m\u001b[0m\n\u001b[0m",
      "\u001b[1;32mlxml.etree.pyx\u001b[0m in \u001b[0;36mlxml.etree._Element.xpath (src/lxml/lxml.etree.c:52198)\u001b[1;34m()\u001b[0m\n",
      "\u001b[1;32mxpath.pxi\u001b[0m in \u001b[0;36mlxml.etree.XPathElementEvaluator.__call__ (src/lxml/lxml.etree.c:152124)\u001b[1;34m()\u001b[0m\n",
      "\u001b[1;32mxpath.pxi\u001b[0m in \u001b[0;36mlxml.etree._XPathEvaluatorBase._handle_result (src/lxml/lxml.etree.c:151097)\u001b[1;34m()\u001b[0m\n",
      "\u001b[1;32mxpath.pxi\u001b[0m in \u001b[0;36mlxml.etree._XPathEvaluatorBase._raise_eval_error (src/lxml/lxml.etree.c:150950)\u001b[1;34m()\u001b[0m\n",
      "\u001b[1;31mXPathEvalError\u001b[0m: Invalid expression"
     ]
    }
   ],
   "source": [
    "# you cannot do that...\n",
    "root.xpath('//attribute()')"
   ]
  },
  {
   "cell_type": "code",
   "execution_count": 13,
   "metadata": {
    "collapsed": false
   },
   "outputs": [
    {
     "data": {
      "text/plain": [
       "['content-type', 'text/html;charset=utf-8', 'page2.html', 'page3.html']"
      ]
     },
     "execution_count": 13,
     "metadata": {},
     "output_type": "execute_result"
    }
   ],
   "source": [
    "# but \"@*\" and you get attribute values\n",
    "root.xpath('//@*')"
   ]
  },
  {
   "cell_type": "code",
   "execution_count": 14,
   "metadata": {
    "collapsed": false
   },
   "outputs": [
    {
     "data": {
      "text/plain": [
       "['content-type', 'text/html;charset=utf-8', 'page2.html', 'page3.html']"
      ]
     },
     "execution_count": 14,
     "metadata": {},
     "output_type": "execute_result"
    }
   ],
   "source": [
    "root.xpath('//attribute::*')"
   ]
  },
  {
   "cell_type": "markdown",
   "metadata": {},
   "source": [
    "## What about _not_ selecting all nodes of a type? Use predicates"
   ]
  },
  {
   "cell_type": "code",
   "execution_count": 15,
   "metadata": {
    "collapsed": false
   },
   "outputs": [
    {
     "data": {
      "text/plain": [
       "([<Element p at 0x7f3178652aa0>],\n",
       " ['<p>Ceci est-il <a href=\"page2.html\">un lien</a>?</p>\\n    '])"
      ]
     },
     "execution_count": 15,
     "metadata": {},
     "output_type": "execute_result"
    }
   ],
   "source": [
    "# paragraphs that contain a link \n",
    "paras = root.xpath('//p[a]')\n",
    "#                       ^\n",
    "#                       |\n",
    "#                  this is a predicate: here \"context node contains at least 1 `a` element\n",
    "paras, map(lxml.html.tostring, paras)"
   ]
  },
  {
   "cell_type": "code",
   "execution_count": 16,
   "metadata": {
    "collapsed": false
   },
   "outputs": [
    {
     "data": {
      "text/plain": [
       "([<Element div at 0x7f31786529f0>],\n",
       " ['<div>\\n    <p>Ceci est un paragraphe.</p>\\n    <p>Ceci est-il <a href=\"page2.html\">un lien</a>?</p>\\n    <br>\\n    Apparemment.\\n   </div>\\n   '])"
      ]
     },
     "execution_count": 16,
     "metadata": {},
     "output_type": "execute_result"
    }
   ],
   "source": [
    "# divs' that contain a paragraph that contain a link\n",
    "divs = root.xpath('//div[p[a]]')\n",
    "\n",
    "divs, map(lxml.html.tostring, divs)"
   ]
  },
  {
   "cell_type": "code",
   "execution_count": 17,
   "metadata": {
    "collapsed": false
   },
   "outputs": [
    {
     "data": {
      "text/plain": [
       "([<Element div at 0x7f31786529f0>], [<Element div at 0x7f31786529f0>], [])"
      ]
     },
     "execution_count": 17,
     "metadata": {},
     "output_type": "execute_result"
    }
   ],
   "source": [
    "# by the way, whitespace is not important (except for `//`...)\n",
    "(\n",
    "    root.xpath('// div [    p [a ]     ]'),\n",
    "    \n",
    "    root.xpath('''\n",
    "        //div[\n",
    "                    p[\n",
    "                        a\n",
    "                    ]     \n",
    "                ]\n",
    "                '''),\n",
    "    \n",
    "    root.xpath('/ / div[p[a]]')\n",
    ")"
   ]
  },
  {
   "cell_type": "code",
   "execution_count": 18,
   "metadata": {
    "collapsed": false
   },
   "outputs": [
    {
     "data": {
      "text/plain": [
       "[<Element a at 0x7f3178652af8>]"
      ]
     },
     "execution_count": 18,
     "metadata": {},
     "output_type": "execute_result"
    }
   ],
   "source": [
    "# selecting using attributes or attribute values\n",
    "root.xpath('//a[@href=\"page2.html\"]')"
   ]
  },
  {
   "cell_type": "code",
   "execution_count": 19,
   "metadata": {
    "collapsed": false
   },
   "outputs": [
    {
     "data": {
      "text/plain": [
       "([<Element p at 0x7f3178652aa0>], [<Element p at 0x7f3178652aa0>])"
      ]
     },
     "execution_count": 19,
     "metadata": {},
     "output_type": "execute_result"
    }
   ],
   "source": [
    "# expressions as predicates, nested predicates\n",
    "(\n",
    "    root.xpath('//p[   a/@href=\"page2.html\"    ]'),\n",
    "    root.xpath('//p[   a[@href=\"page2.html\"]   ]'),\n",
    ")"
   ]
  },
  {
   "cell_type": "code",
   "execution_count": 20,
   "metadata": {
    "collapsed": false
   },
   "outputs": [
    {
     "data": {
      "text/plain": [
       "[<Element p at 0x7f3178652a48>]"
      ]
     },
     "execution_count": 20,
     "metadata": {},
     "output_type": "execute_result"
    }
   ],
   "source": [
    "# selecting using text content\n",
    "root.xpath('//p[contains(., \"paragraphe\")]')"
   ]
  },
  {
   "cell_type": "code",
   "execution_count": 21,
   "metadata": {
    "collapsed": false
   },
   "outputs": [
    {
     "data": {
      "text/plain": [
       "[]"
      ]
     },
     "execution_count": 21,
     "metadata": {},
     "output_type": "execute_result"
    }
   ],
   "source": [
    "# selecting using text content with exact match\n",
    "root.xpath('//p[.=\"Ceci est un paragraphe\"]')"
   ]
  },
  {
   "cell_type": "code",
   "execution_count": 22,
   "metadata": {
    "collapsed": false
   },
   "outputs": [
    {
     "data": {
      "text/plain": [
       "[]"
      ]
     },
     "execution_count": 22,
     "metadata": {},
     "output_type": "execute_result"
    }
   ],
   "source": [
    "# Oops, yes, whitespace in text nodes is important\n",
    "# XPath has various string functions to help\n",
    "root.xpath('//p[ normalize-space(.) = \"Ceci est un paragraphe\" ]')"
   ]
  },
  {
   "cell_type": "code",
   "execution_count": 23,
   "metadata": {
    "collapsed": false
   },
   "outputs": [
    {
     "data": {
      "text/plain": [
       "([<Element p at 0x7f3178652a48>], [<Element p at 0x7f3178652aa0>])"
      ]
     },
     "execution_count": 23,
     "metadata": {},
     "output_type": "execute_result"
    }
   ],
   "source": [
    "# selecting by position (relative to it's parent node)\n",
    "root.xpath('//p[1]'), root.xpath('//p[last()]'), "
   ]
  },
  {
   "cell_type": "code",
   "execution_count": 24,
   "metadata": {
    "collapsed": false
   },
   "outputs": [
    {
     "data": {
      "text/plain": [
       "([<Element div at 0x7f3178652ba8>], [<Element div at 0x7f31786529f0>])"
      ]
     },
     "execution_count": 24,
     "metadata": {},
     "output_type": "execute_result"
    }
   ],
   "source": [
    "# selecting by position, careful when grouping\n",
    "root.xpath('//div[2]'), root.xpath('(//div)[2]'), \n",
    "#                 ^                         ^\n",
    "#                 |                         |\n",
    "#   second div child (of the context node)\n",
    "#                                           |\n",
    "#                           second div in whole document"
   ]
  },
  {
   "cell_type": "markdown",
   "metadata": {},
   "source": [
    "# LocationPaths & Axes"
   ]
  },
  {
   "cell_type": "markdown",
   "metadata": {},
   "source": [
    "What we've seen so far are all **LocationPaths** expressions.\n",
    "\n",
    "LocationPaths are the most common XPath expressions.\n",
    "\n",
    "- `{/}? step {/step}*`\n",
    "- each step is: _axis_ '::' _node-test()_ _[predicates]*_"
   ]
  },
  {
   "cell_type": "markdown",
   "metadata": {},
   "source": [
    "## Absolute vs. relative LocationPaths\n",
    "\n",
    "_\"A relative location path consists of a sequence of one or more location steps separated by / \"_ -- http://www.w3.org/TR/xpath/#location-paths\n",
    "\n",
    "_\"An absolute location path consists of / optionally followed by a relative location path. (...) the location path selects the set of nodes that would be selected by the relative location path **relative to the root node** of the document containing the context node.\"_"
   ]
  },
  {
   "cell_type": "code",
   "execution_count": 25,
   "metadata": {
    "collapsed": false
   },
   "outputs": [
    {
     "name": "stdout",
     "output_type": "stream",
     "text": [
      "['\\n ', '\\n  ', 'Ceci est un titre', '\\n  ', '\\n ', '\\n ', '\\n  ', '\\n   ', '\\n    ', 'Ceci est un paragraphe.', '\\n    ', 'Ceci est-il ', 'un lien', '?', '\\n    ', '\\n    Apparemment.\\n   ', '\\n   ', u'\\n    Rien \\xe0 ajouter.\\n    Sauf cet ', 'autre lien', '.\\n    ', '\\n   ', '\\n  ', '\\n ', '\\n']\n",
      "['\\n ', '\\n  ', 'Ceci est un titre', '\\n  ', '\\n ', '\\n ', '\\n  ', '\\n   ', '\\n    ', 'Ceci est un paragraphe.', '\\n    ', 'Ceci est-il ', 'un lien', '?', '\\n    ', '\\n    Apparemment.\\n   ', '\\n   ', u'\\n    Rien \\xe0 ajouter.\\n    Sauf cet ', 'autre lien', '.\\n    ', '\\n   ', '\\n  ', '\\n ', '\\n']\n",
      "['\\n ', '\\n  ', 'Ceci est un titre', '\\n  ', '\\n ', '\\n ', '\\n  ', '\\n   ', '\\n    ', 'Ceci est un paragraphe.', '\\n    ', 'Ceci est-il ', 'un lien', '?', '\\n    ', '\\n    Apparemment.\\n   ', '\\n   ', u'\\n    Rien \\xe0 ajouter.\\n    Sauf cet ', 'autre lien', '.\\n    ', '\\n   ', '\\n  ', '\\n ', '\\n']\n"
     ]
    }
   ],
   "source": [
    "for div in root.xpath('//div'):\n",
    "    print div.xpath('//text()') # this will select all text nodes from the root node down"
   ]
  },
  {
   "cell_type": "code",
   "execution_count": 26,
   "metadata": {
    "collapsed": false
   },
   "outputs": [
    {
     "name": "stdout",
     "output_type": "stream",
     "text": [
      "['\\n   ', '\\n    ', 'Ceci est un paragraphe.', '\\n    ', 'Ceci est-il ', 'un lien', '?', '\\n    ', '\\n    Apparemment.\\n   ', '\\n   ', u'\\n    Rien \\xe0 ajouter.\\n    Sauf cet ', 'autre lien', '.\\n    ', '\\n   ', '\\n  ']\n",
      "['\\n    ', 'Ceci est un paragraphe.', '\\n    ', 'Ceci est-il ', 'un lien', '?', '\\n    ', '\\n    Apparemment.\\n   ']\n",
      "[u'\\n    Rien \\xe0 ajouter.\\n    Sauf cet ', 'autre lien', '.\\n    ', '\\n   ']\n"
     ]
    }
   ],
   "source": [
    "# advice: use only relative location paths to avoid confusion\n",
    "for div in root.xpath('.//div'):\n",
    "    print div.xpath('.//text()') # only selects text nodes relative to each div"
   ]
  },
  {
   "cell_type": "markdown",
   "metadata": {},
   "source": [
    "## Axes\n",
    "\n",
    "Inside the document, for each **element** node, XPath defines several axes, to navigate in the document from the context node (where you are in the tree)\n",
    "\n",
    "- self (where you are right now)\n",
    "- ancestor (and ancestor-or-self)\n",
    "- descendant (and descendant-or-self)\n",
    "- preceding-sibling, following-sibling\n",
    "\n",
    "\n",
    "Abbreviated syntax is very helpful and much easier to read:\n",
    "\n",
    "- **`//`** is short for **`/descendant-or-self::node()/`**\n",
    "- **.** is short for **`self::node()`**. \n",
    "\n",
    "E.g. **`.//para`** is short for **`self::node()/descendant-or-self::node()/child::p`**"
   ]
  },
  {
   "cell_type": "code",
   "execution_count": 27,
   "metadata": {
    "collapsed": false
   },
   "outputs": [
    {
     "data": {
      "text/plain": [
       "(False, True, True)"
      ]
     },
     "execution_count": 27,
     "metadata": {},
     "output_type": "execute_result"
    }
   ],
   "source": [
    "(\n",
    "    root.xpath('//*') == root.xpath('.//*'),\n",
    "    root.xpath('.//*') == root.xpath('self::node()/descendant-or-self::node()/child::*'),\n",
    "    \n",
    "    # which is equivalent to descendant elements\n",
    "    root.xpath('.//*') == root.xpath('descendant::*'),\n",
    ")"
   ]
  },
  {
   "cell_type": "code",
   "execution_count": 28,
   "metadata": {
    "collapsed": false
   },
   "outputs": [
    {
     "data": {
      "text/plain": [
       "[]"
      ]
     },
     "execution_count": 28,
     "metadata": {},
     "output_type": "execute_result"
    }
   ],
   "source": [
    "# root node\n",
    "root.xpath('/self::node()')"
   ]
  },
  {
   "cell_type": "code",
   "execution_count": 29,
   "metadata": {
    "collapsed": false
   },
   "outputs": [
    {
     "data": {
      "text/plain": [
       "[<Element html at 0x7f3188856a48>]"
      ]
     },
     "execution_count": 29,
     "metadata": {},
     "output_type": "execute_result"
    }
   ],
   "source": [
    "# child of root\n",
    "root.xpath('/child::node()')"
   ]
  },
  {
   "cell_type": "code",
   "execution_count": 30,
   "metadata": {
    "collapsed": false
   },
   "outputs": [
    {
     "data": {
      "text/plain": [
       "['\\n ',\n",
       " <Element head at 0x7f3178652838>,\n",
       " '\\n ',\n",
       " <Element body at 0x7f3178652940>,\n",
       " '\\n']"
      ]
     },
     "execution_count": 30,
     "metadata": {},
     "output_type": "execute_result"
    }
   ],
   "source": [
    "# but strangely, child axis with root node as context, yield children nodes from <html>...\n",
    "root.xpath('child::node()')"
   ]
  },
  {
   "cell_type": "markdown",
   "metadata": {},
   "source": [
    "The selection of node-set from LocationPaths is done from left to right\n",
    "\n",
    "1. _The initial sequence of steps selects a set of nodes relative to a context node._\n",
    "2. _Each node in that set is used as a context node for the following step._\n",
    "3. _The sets of nodes identified by that step are unioned together. The set of nodes identified by the composition of the steps is this union._\n",
    "\n",
    "\n",
    "```\n",
    "step1 / step2 / step3 / step4:\n",
    "\n",
    "1. context node --> step1 --> node-set-1\n",
    "2. for each node in node-set-1, node --> step2 --> node-set appended to node-set-2\n",
    "3. node-set-2   --> step3 --> node-set-3\n",
    "4. node-set-3   --> step4 --> node-set-4 --> result of expression selection\n",
    "```"
   ]
  },
  {
   "cell_type": "code",
   "execution_count": 31,
   "metadata": {
    "collapsed": false
   },
   "outputs": [
    {
     "name": "stdout",
     "output_type": "stream",
     "text": [
      "/html/body/div/descendant-or-self::node()/p\n"
     ]
    },
    {
     "data": {
      "text/plain": [
       "True"
      ]
     },
     "execution_count": 31,
     "metadata": {},
     "output_type": "execute_result"
    }
   ],
   "source": [
    "abbrpath = \"/html/body/div//p\"\n",
    "\n",
    "steps = ['/html', 'body', 'div', 'descendant-or-self::node()', 'p']\n",
    "relpath = \"/\".join(steps)\n",
    "print relpath\n",
    "root.xpath(relpath) == root.xpath(abbrpath)"
   ]
  },
  {
   "cell_type": "code",
   "execution_count": 32,
   "metadata": {
    "collapsed": false
   },
   "outputs": [
    {
     "name": "stdout",
     "output_type": "stream",
     "text": [
      " 1: '/html' 1\n",
      " 2: 'body' 1\n",
      " 3: 'div' 1\n",
      " 4: 'descendant-or-self::node()' 24\n",
      " 5: 'p' 2\n"
     ]
    },
    {
     "data": {
      "text/plain": [
       "True"
      ]
     },
     "execution_count": 32,
     "metadata": {},
     "output_type": "execute_result"
    }
   ],
   "source": [
    "inodeset = [root]\n",
    "for cnt, step in enumerate(steps, start=1):\n",
    "    print \"%2d: '%s'\" % (cnt, step),\n",
    "    nodeset = []\n",
    "    for node in inodeset:\n",
    "        try:\n",
    "            selected = node.xpath(step)\n",
    "            nodeset.extend(selected)\n",
    "        except:\n",
    "            pass\n",
    "    print len(nodeset)\n",
    "    inodeset = nodeset\n",
    "nodeset == root.xpath(abbrpath)"
   ]
  },
  {
   "cell_type": "markdown",
   "metadata": {},
   "source": [
    "# XPath expressions return types\n",
    "\n",
    "So far we have seen that XPath expressions can return nodes (elements, attribute value and comments).\n",
    "\n",
    "But XPath expression can also return:\n",
    " \n",
    "- a floating point number\n",
    "- a boolean\n",
    "- a string"
   ]
  },
  {
   "cell_type": "code",
   "execution_count": 33,
   "metadata": {
    "collapsed": false
   },
   "outputs": [
    {
     "data": {
      "text/plain": [
       "([<Element p at 0x7f3178652a48>, <Element p at 0x7f3178652aa0>],\n",
       " [<Element a at 0x7f3178652af8>, <Element a at 0x7f3178652c00>],\n",
       " [<Element div at 0x7f3178652998>,\n",
       "  <Element div at 0x7f31786529f0>,\n",
       "  <Element p at 0x7f3178652a48>,\n",
       "  <Element p at 0x7f3178652aa0>,\n",
       "  <Element div at 0x7f3178652ba8>])"
      ]
     },
     "execution_count": 33,
     "metadata": {},
     "output_type": "execute_result"
    }
   ],
   "source": [
    "# return node-sets (using LocationPaths)\n",
    "(\n",
    "    root.xpath('//p'),\n",
    "    root.xpath('//a'),\n",
    "    \n",
    "    # The | operator computes the union of its operands, which must be node-sets.\n",
    "    # http://www.w3.org/TR/xpath/#node-sets\n",
    "    root.xpath('//p | //div'),\n",
    ")\n"
   ]
  },
  {
   "cell_type": "code",
   "execution_count": 34,
   "metadata": {
    "collapsed": false
   },
   "outputs": [
    {
     "data": {
      "text/plain": [
       "(42.0, 2.0, 3.0, 5.0)"
      ]
     },
     "execution_count": 34,
     "metadata": {},
     "output_type": "execute_result"
    }
   ],
   "source": [
    "# return floating point numbers\n",
    "(\n",
    "    root.xpath('42'), # I know, not very useful\n",
    "    root.xpath('count(//p)'),\n",
    "    root.xpath('count(//div)'),\n",
    "    root.xpath('count(//div | //p)')\n",
    ")"
   ]
  },
  {
   "cell_type": "code",
   "execution_count": 35,
   "metadata": {
    "collapsed": false
   },
   "outputs": [
    {
     "data": {
      "text/plain": [
       "(False, True, False, False, True)"
      ]
     },
     "execution_count": 35,
     "metadata": {},
     "output_type": "execute_result"
    }
   ],
   "source": [
    "# return booleans\n",
    "(\n",
    "    root.xpath('false()'),\n",
    "    root.xpath('boolean(//p)'),\n",
    "    root.xpath('boolean(//img)'), # no img tags in document\n",
    "    root.xpath('count(//div) = count(//p)'),\n",
    "    root.xpath('count(//meta/@*) = count(//a)'),\n",
    ")"
   ]
  },
  {
   "cell_type": "code",
   "execution_count": 36,
   "metadata": {
    "collapsed": false
   },
   "outputs": [
    {
     "data": {
      "text/plain": [
       "('a string',\n",
       " u'\\n   \\n    Ceci est un paragraphe.\\n    Ceci est-il un lien?\\n    \\n    Apparemment.\\n   \\n   \\n    Rien \\xe0 ajouter.\\n    Sauf cet autre lien.\\n    \\n   \\n  ',\n",
       " u'Ceci est un paragraphe. Ceci est-il un lien? Apparemment. Rien \\xe0 ajouter. Sauf cet autre lien.',\n",
       " ' Et ce commentaire ')"
      ]
     },
     "execution_count": 36,
     "metadata": {},
     "output_type": "execute_result"
    }
   ],
   "source": [
    "# string functions\n",
    "# http://www.w3.org/TR/xpath/#section-String-Functions\n",
    "(    \n",
    "    root.xpath('\"a string\"'),\n",
    "    root.xpath('string(//div)'),\n",
    "    root.xpath('normalize-space(//div)'),\n",
    "    root.xpath('string(//comment())'),\n",
    ")"
   ]
  },
  {
   "cell_type": "markdown",
   "metadata": {},
   "source": [
    "Have you noticed something?\n",
    "You get only 1 string back with `string()`, even with `//div` as parameter\n",
    "\n",
    "This is a bit hidden in the XPath 1.0 specifications:\n",
    "\n",
    "```\n",
    "Function: string string(object?)\n",
    "\n",
    "The string function converts an object to a string as follows:\n",
    "\n",
    "A node-set is converted to a string by returning the string-value of the node in the node-set that is first in document order. If the node-set is empty, an empty string is returned.\n",
    "```"
   ]
  },
  {
   "cell_type": "code",
   "execution_count": 37,
   "metadata": {
    "collapsed": false
   },
   "outputs": [
    {
     "data": {
      "text/plain": [
       "(True, False)"
      ]
     },
     "execution_count": 37,
     "metadata": {},
     "output_type": "execute_result"
    }
   ],
   "source": [
    "(    \n",
    "    root.xpath('string(//div)') == root.xpath('string((//div)[1])'),\n",
    "    root.xpath('string(//div)') == root.xpath('string((//div)[2])'),\n",
    ")"
   ]
  },
  {
   "cell_type": "markdown",
   "metadata": {
    "collapsed": true
   },
   "source": [
    "# Web scraping use cases\n",
    "\n",
    "## Extracting attribute (values)"
   ]
  },
  {
   "cell_type": "code",
   "execution_count": 8,
   "metadata": {
    "collapsed": true
   },
   "outputs": [],
   "source": [
    "htmlsource= \"\"\"<div class=\"second\">\n",
    "      Rien &agrave; ajouter.\n",
    "      Sauf cet <a href=\"page3.html\">autre lien</a>. \n",
    "      <!-- Et ce commentaire -->\n",
    "    </div>\"\"\""
   ]
  },
  {
   "cell_type": "code",
   "execution_count": 9,
   "metadata": {
    "collapsed": false
   },
   "outputs": [],
   "source": [
    "import lxml.html\n",
    "root = lxml.html.fromstring(htmlsource)"
   ]
  },
  {
   "cell_type": "code",
   "execution_count": 12,
   "metadata": {
    "collapsed": false
   },
   "outputs": [
    {
     "data": {
      "text/plain": [
       "[u'\\n      Rien \\xe0 ajouter.\\n      Sauf cet ', '. \\n      ', '\\n    ']"
      ]
     },
     "execution_count": 12,
     "metadata": {},
     "output_type": "execute_result"
    }
   ],
   "source": [
    "root.xpath('//div[@class=\"second\"]/text()')"
   ]
  },
  {
   "cell_type": "code",
   "execution_count": 13,
   "metadata": {
    "collapsed": false
   },
   "outputs": [
    {
     "data": {
      "text/plain": [
       "[u'\\n      Rien \\xe0 ajouter.\\n      Sauf cet ',\n",
       " 'autre lien',\n",
       " '. \\n      ',\n",
       " '\\n    ']"
      ]
     },
     "execution_count": 13,
     "metadata": {},
     "output_type": "execute_result"
    }
   ],
   "source": [
    "root.xpath('//div[@class=\"second\"]//text()')"
   ]
  },
  {
   "cell_type": "code",
   "execution_count": 14,
   "metadata": {
    "collapsed": false
   },
   "outputs": [
    {
     "data": {
      "text/plain": [
       "u'\\n      Rien \\xe0 ajouter.\\n      Sauf cet autre lien. \\n      \\n    '"
      ]
     },
     "execution_count": 14,
     "metadata": {},
     "output_type": "execute_result"
    }
   ],
   "source": [
    "root.xpath('string(//div[@class=\"second\"])')"
   ]
  },
  {
   "cell_type": "markdown",
   "metadata": {},
   "source": [
    "## Loop on elements"
   ]
  },
  {
   "cell_type": "code",
   "execution_count": 64,
   "metadata": {
    "collapsed": true
   },
   "outputs": [],
   "source": [
    "# source HTML from http://www.sarenza.com/new-balance-u420-s807876-p0000022369\n",
    "f = open('New Balance U420 (Noir) - Baskets chez Sarenza (238259).html')\n",
    "htmlsource = f.read()"
   ]
  },
  {
   "cell_type": "code",
   "execution_count": 65,
   "metadata": {
    "collapsed": false
   },
   "outputs": [],
   "source": [
    "import parsel\n",
    "\n",
    "# here I know it's UTF8. Scrapy would determine this by itself\n",
    "selector = parsel.Selector(text=htmlsource.decode('utf8'))"
   ]
  },
  {
   "cell_type": "code",
   "execution_count": 66,
   "metadata": {
    "collapsed": false
   },
   "outputs": [
    {
     "name": "stdout",
     "output_type": "stream",
     "text": [
      "<div class=\"detail-product\">\r\n",
      "                <div class=\"row-panel \">\r\n",
      "                    <h2 class=\"title-panel large\">\r\n",
      "                        <span>On en pense quoi ?</span>\r\n",
      "                    </h2>\r\n",
      "                    <div class=\"panel\">\r\n",
      "                        <div class=\"mask-text\">\r\n",
      "                            <p itemprop=\"description\">\r\n",
      "                                Avec ses baskets U420, New Balance réédite la 420, sa fameuse basket devenue légendaire pour son look, sa légèreté et son confort! Choisissez le modèle qui vous sied et portez la légende à vos pieds avec les New Balance U420!<br>La semelle est antibactérienne. <br>Baskets New Balance U420 pour homme, en cuir et textile, à lacets (6 œillets), montées sur une semelle de gomme anti-traces. La semelle intérieure est amovible.<br>\r\n",
      "                            </p>\r\n",
      "                        </div>\r\n",
      "                    </div>\r\n",
      "                </div>\r\n",
      "                <ul>\r\n",
      "                    \r\n",
      "                            <li>\r\n",
      "                                <strong>Type</strong>\r\n",
      "                                Baskets\r\n",
      "                            </li>\r\n",
      "                        \r\n",
      "                            <li>\r\n",
      "                                <strong>Boutique</strong>\r\n",
      "                                Petites Pointures\r\n",
      "                            </li>\r\n",
      "                        \r\n",
      "                            <li>\r\n",
      "                                <strong>Saison</strong>\r\n",
      "                                Automne/Hiver 2015\r\n",
      "                            </li>\r\n",
      "                        \r\n",
      "                            <li>\r\n",
      "                                <strong>Pays de fabrication</strong>\r\n",
      "                                Viêt Nam\r\n",
      "                            </li>\r\n",
      "                        \r\n",
      "                            <li>\r\n",
      "                                <strong>Pointure de réf.</strong>\r\n",
      "                                40\r\n",
      "                            </li>\r\n",
      "                        \r\n",
      "                            <li>\r\n",
      "                                <strong>Ref</strong>\r\n",
      "                                22369\r\n",
      "                            </li>\r\n",
      "                        \r\n",
      "                            <li>\r\n",
      "                                <strong>Dessus / Tige</strong>\r\n",
      "                                Cuir/Textile\r\n",
      "                            </li>\r\n",
      "                        \r\n",
      "                            <li>\r\n",
      "                                <strong>Doublure</strong>\r\n",
      "                                Textile\r\n",
      "                            </li>\r\n",
      "                        \r\n",
      "                            <li>\r\n",
      "                                <strong>Semelle amovible</strong>\r\n",
      "                                Oui\r\n",
      "                            </li>\r\n",
      "                        \r\n",
      "                            <li>\r\n",
      "                                <strong>Semelle intérieure</strong>\r\n",
      "                                Textile\r\n",
      "                            </li>\r\n",
      "                        \r\n",
      "                            <li>\r\n",
      "                                <strong>Semelle extérieure</strong>\r\n",
      "                                Gomme\r\n",
      "                            </li>\r\n",
      "                        \r\n",
      "                            <li>\r\n",
      "                                <strong>Construction</strong>\r\n",
      "                                Soudé\r\n",
      "                            </li>\r\n",
      "                        \r\n",
      "                </ul>\r\n",
      "                <p class=\"txt-12 mentions hide\">*Prix conseillé par le fournisseur en Automne/Hiver 2015</p>\r\n",
      "            </div>\n"
     ]
    }
   ],
   "source": [
    "from pprint import pprint\n",
    "\n",
    "print selector.css('div.detail-product').extract_first()"
   ]
  },
  {
   "cell_type": "code",
   "execution_count": 67,
   "metadata": {
    "collapsed": false
   },
   "outputs": [
    {
     "name": "stdout",
     "output_type": "stream",
     "text": [
      "Type\n",
      "\r\n",
      "                                Baskets\r\n",
      "                            \n",
      "Boutique\n",
      "\r\n",
      "                                Petites Pointures\r\n",
      "                            \n",
      "Saison\n",
      "\r\n",
      "                                Automne/Hiver 2015\r\n",
      "                            \n",
      "Pays de fabrication\n",
      "\r\n",
      "                                Viêt Nam\r\n",
      "                            \n",
      "Pointure de réf.\n",
      "\r\n",
      "                                40\r\n",
      "                            \n",
      "Ref\n",
      "\r\n",
      "                                22369\r\n",
      "                            \n",
      "Dessus / Tige\n",
      "\r\n",
      "                                Cuir/Textile\r\n",
      "                            \n",
      "Doublure\n",
      "\r\n",
      "                                Textile\r\n",
      "                            \n",
      "Semelle amovible\n",
      "\r\n",
      "                                Oui\r\n",
      "                            \n",
      "Semelle intérieure\n",
      "\r\n",
      "                                Textile\r\n",
      "                            \n",
      "Semelle extérieure\n",
      "\r\n",
      "                                Gomme\r\n",
      "                            \n",
      "Construction\n",
      "\r\n",
      "                                Soudé\r\n",
      "                            \n"
     ]
    }
   ],
   "source": [
    "for list_item in selector.css('div.detail-product > ul > li'):\n",
    "    print list_item.xpath('./strong/text()').extract_first()\n",
    "    print list_item.xpath('./strong/following-sibling::text()').extract_first()"
   ]
  },
  {
   "cell_type": "code",
   "execution_count": 68,
   "metadata": {
    "collapsed": false
   },
   "outputs": [
    {
     "name": "stdout",
     "output_type": "stream",
     "text": [
      "---------\n",
      "Type\n",
      "Baskets\n",
      "---------\n",
      "Boutique\n",
      "Petites Pointures\n",
      "---------\n",
      "Saison\n",
      "Automne/Hiver 2015\n",
      "---------\n",
      "Pays de fabrication\n",
      "Viêt Nam\n",
      "---------\n",
      "Pointure de réf.\n",
      "40\n",
      "---------\n",
      "Ref\n",
      "22369\n",
      "---------\n",
      "Dessus / Tige\n",
      "Cuir/Textile\n",
      "---------\n",
      "Doublure\n",
      "Textile\n",
      "---------\n",
      "Semelle amovible\n",
      "Oui\n",
      "---------\n",
      "Semelle intérieure\n",
      "Textile\n",
      "---------\n",
      "Semelle extérieure\n",
      "Gomme\n",
      "---------\n",
      "Construction\n",
      "Soudé\n"
     ]
    }
   ],
   "source": [
    "for list_item in selector.css('div.detail-product > ul > li'):\n",
    "    print \"---------\"\n",
    "    print list_item.xpath('string(./strong)').extract_first()\n",
    "    print list_item.xpath('normalize-space(./strong/following-sibling::text())').extract_first()"
   ]
  },
  {
   "cell_type": "code",
   "execution_count": 70,
   "metadata": {
    "collapsed": false
   },
   "outputs": [
    {
     "name": "stdout",
     "output_type": "stream",
     "text": [
      "{u'Boutique': u'Petites Pointures',\n",
      " u'Construction': u'Soud\\xe9',\n",
      " u'Dessus / Tige': u'Cuir/Textile',\n",
      " u'Doublure': u'Textile',\n",
      " u'Pays de fabrication': u'Vi\\xeat Nam',\n",
      " u'Pointure de r\\xe9f.': u'40',\n",
      " u'Ref': u'22369',\n",
      " u'Saison': u'Automne/Hiver 2015',\n",
      " u'Semelle amovible': u'Oui',\n",
      " u'Semelle ext\\xe9rieure': u'Gomme',\n",
      " u'Semelle int\\xe9rieure': u'Textile',\n",
      " u'Type': u'Baskets'}\n"
     ]
    }
   ],
   "source": [
    "# all together, for the slides\n",
    "from pprint import pprint\n",
    "import parsel\n",
    "\n",
    "selector = parsel.Selector(text=u\"\"\"<div class='detail-product'>\n",
    "    <ul>\n",
    "        <li><strong>Type</strong> Baskets</li>\n",
    "        <li><strong>Boutique</strong> Petites Pointures</li>\n",
    "        <li><strong>Saison</strong> Automne/Hiver 2015</li>\n",
    "        <li><strong>Pays de fabrication</strong> Viêt Nam</li>\n",
    "        <li><strong>Pointure de réf.</strong> 40</li>\n",
    "        <li><strong>Ref</strong> 22369</li>\n",
    "        <li><strong>Dessus / Tige</strong> Cuir/Textile</li>\n",
    "        <li><strong>Doublure</strong> Textile</li>\n",
    "        <li><strong>Semelle amovible</strong> Oui</li>\n",
    "        <li><strong>Semelle int&eacute;rieure</strong> Textile</li>\n",
    "        <li><strong>Semelle ext&eacute;rieure</strong> Gomme</li>\n",
    "        <li><strong>Construction</strong> Soudé</li>\n",
    "    </ul>\n",
    "</div>\"\"\")\n",
    "\n",
    "pprint(\n",
    "    dict((li.xpath('string(./strong)').extract_first(),\n",
    "          li.xpath('normalize-space(./strong/following-sibling::text())').extract_first())\n",
    "         for li in selector.css('div.detail-product > ul > li'))\n",
    ")"
   ]
  },
  {
   "cell_type": "code",
   "execution_count": 62,
   "metadata": {
    "collapsed": false
   },
   "outputs": [
    {
     "name": "stdout",
     "output_type": "stream",
     "text": [
      "{'product': {'details': [{'k': 'Type Baskets', 'v': 'Baskets'},\n",
      "                         {'k': 'Boutique Petites Pointures',\n",
      "                          'v': 'Petites Pointures'},\n",
      "                         {'k': 'Saison Automne/Hiver 2015',\n",
      "                          'v': 'Automne/Hiver 2015'},\n",
      "                         {'k': u'Pays de fabrication Vi\\xeat Nam',\n",
      "                          'v': u'Vi\\xeat Nam'},\n",
      "                         {'k': u'Pointure de r\\xe9f. 40', 'v': '40'},\n",
      "                         {'k': 'Ref 22369', 'v': '22369'},\n",
      "                         {'k': 'Dessus / Tige Cuir/Textile',\n",
      "                          'v': 'Cuir/Textile'},\n",
      "                         {'k': 'Doublure Textile', 'v': 'Textile'},\n",
      "                         {'k': 'Semelle amovible Oui', 'v': 'Oui'},\n",
      "                         {'k': u'Semelle int\\xe9rieure Textile',\n",
      "                          'v': 'Textile'},\n",
      "                         {'k': u'Semelle ext\\xe9rieure Gomme', 'v': 'Gomme'},\n",
      "                         {'k': u'Construction Soud\\xe9', 'v': u'Soud\\xe9'}]}}\n"
     ]
    }
   ],
   "source": [
    "import parslepy\n",
    "\n",
    "rules = {\n",
    "    \"product(div.detail-product)\": {\n",
    "        \"details(./ul/li)\": [\n",
    "            {\n",
    "                \"k\": \"parslepy:strip(strong)\",\n",
    "                \"v\": \"parslepy:strip(./strong/following-sibling::text())\"\n",
    "            }\n",
    "        ]\n",
    "    }\n",
    "}\n",
    "parselet = parslepy.Parselet(rules)\n",
    "pprint(parselet.parse_fromstring(htmlsource))"
   ]
  },
  {
   "cell_type": "markdown",
   "metadata": {},
   "source": [
    "## Extraction data from Javascript code"
   ]
  },
  {
   "cell_type": "code",
   "execution_count": 72,
   "metadata": {
    "collapsed": true
   },
   "outputs": [],
   "source": [
    "import parsel\n",
    "\n",
    "# source HTML from http://eur.shoreprojects.com/collections/watches/products/cowes\n",
    "f = open('Cowes _ Shore Projects.html')\n",
    "htmlsource = f.read()\n",
    "\n",
    "# here I know it's UTF8. Scrapy would determine this by itself\n",
    "selector = parsel.Selector(text=htmlsource.decode('utf8'))"
   ]
  },
  {
   "cell_type": "code",
   "execution_count": 73,
   "metadata": {
    "collapsed": false
   },
   "outputs": [
    {
     "data": {
      "text/plain": [
       "[u' Shopify.money_format = \"&euro;{{amount_no_decimals}} EUR\"; ',\n",
       " u'\\n//<![CDATA[\\n      var Shopify = Shopify || {};\\n      Shopify.shop = \"otherwayeur.myshopify.com\";\\n      Shopify.theme = {\"name\":\"Shore Projects\",\"id\":8992956,\"theme_store_id\":null,\"role\":\"main\"};\\n\\n//]]>\\n',\n",
       " u'\\n//<![CDATA[\\n    (function() {\\n      function asyncLoad() {\\n        var urls = [\"http:\\\\/\\\\/beacon.riskified.com?shop=otherwayeur.myshopify.com\"];\\n        for (var i = 0; i < urls.length; i++) {\\n          var s = document.createElement(\\'script\\');\\n          s.type = \\'text/javascript\\';\\n          s.async = true;\\n          s.src = urls[i];\\n          var x = document.getElementsByTagName(\\'script\\')[0];\\n          x.parentNode.insertBefore(s, x);\\n        }\\n      }\\n      window.attachEvent ? window.attachEvent(\\'onload\\', asyncLoad) : window.addEventListener(\\'load\\', asyncLoad, false);\\n    })();\\n\\n//]]>\\n',\n",
       " u'\\n//<![CDATA[\\nvar __st={\"a\":7162745,\"offset\":3600,\"reqid\":\"cd39460a-41eb-421f-9297-e38924222468\",\"pageurl\":\"eur.shoreprojects.com\\\\/collections\\\\/watches\\\\/products\\\\/cowes?ranMID=40080\\\\u0026ranEAID=QFGLnEolOWg\\\\u0026ranSiteID=QFGLnEolOWg-gPoabmq01_qcBTOy6rnpRA\\\\u0026siteID=QFGLnEolOWg-gPoabmq01_qcBTOy6rnpRA\",\"s\":\"products-430796128\",\"t\":\"lead\",\"u\":\"ff92f0e6777a\",\"p\":\"product\",\"rtyp\":\"product\",\"rid\":430796128};\\n//]]>\\n',\n",
       " u\"\\n//<![CDATA[\\n      (function() {\\n        var s = document.createElement('script'); s.type = 'text/javascript'; s.async = true;\\n        s.src = '//cdn.shopify.com/s/javascripts/shopify_stats.js?v=6';\\n        var x = document.getElementsByTagName('script')[0]; x.parentNode.insertBefore(s, x);\\n      })();\\n\\n//]]>\\n\",\n",
       " u'\\n        \\n      window.ShopifyAnalytics = window.ShopifyAnalytics || {};\\n      window.ShopifyAnalytics.meta = window.ShopifyAnalytics.meta || {};\\n      window.ShopifyAnalytics.meta.currency = \\'EUR\\';\\n    \\n        (window.gaDevIds=window.gaDevIds||[]).push(\\'BwiEti\\');\\n        \\n        (function () {\\n          var customDocumentWrite = function(content) {\\n            var jquery = null;\\n\\n            if (window.jQuery) {\\n              jquery = window.jQuery;\\n            } else if (window.Checkout && window.Checkout.$) {\\n              jquery = window.Checkout.$;\\n            }\\n\\n            if (jquery) {\\n              jquery(\\'body\\').append(content);\\n            }\\n          };\\n\\n          var analytics = document.createElement(\\'script\\');\\n          var loaded = false;\\n          var onload = function() {\\n            if (loaded) return;\\n            loaded = true;\\n            window.ShopifyAnalytics.lib = window.analytics.noConflict();\\n            window.ShopifyAnalytics.lib.initialize({\"Google Analytics\":{\"trackingId\":\"UA-47278830-1\",\"domain\":\"auto\",\"siteSpeedSampleRate\":\"10\",\"enhancedEcommerce\":true,\"doubleClick\":true,\"includeSearch\":true},\"Trekkie\":{\"appName\":\"storefront\",\"environment\":\"production\",\"navigationTimingApiMeasurementsEnabled\":true,\"navigationTimingApiMeasurementsSampleRate\":0.1,\"defaultAttributes\":{\"shopId\":7162745}}});\\n            \\n        window.ShopifyAnalytics.lib.page(\\n          null,\\n          {}\\n        );\\n      \\n            \\n        window.ShopifyAnalytics.lib.track(\\n          \"Viewed Product\",\\n          {\"name\":\"Cowes - Watch\",\"price\":\"125.00\",\"currency\":\"EUR\",\"sku\":\"P2SS\",\"brand\":\"Online Store\",\"category\":\"Watch\",\"nonInteraction\":true}\\n        );\\n      \\n\\n            window.ShopifyAnalytics.lib.ready(function() {\\n              \\n      ga(\\'require\\', \\'linker\\');\\n      function addListener(element, type, callback) {\\n        if (element.addEventListener) {\\n          element.addEventListener(type, callback);\\n        }\\n        else if (element.attachEvent) {\\n          element.attachEvent(\\'on\\' + type, callback);\\n        }\\n      }\\n      function decorate(event) {\\n        event = event || window.event;\\n        var target = event.target || event.srcElement;\\n        if (target && (target.getAttribute(\\'action\\') || target.getAttribute(\\'href\\'))) {\\n          ga(function (tracker) {\\n            var linkerParam = tracker.get(\\'linkerParam\\');\\n            document.cookie = \\'_shopify_ga=\\' + linkerParam + \\'; \\' + \\'path=/\\';\\n          });\\n        }\\n      }\\n      addListener(window, \\'load\\', function(){\\n        for (var i=0; i < document.forms.length; i++) {\\n          var action = document.forms[i].getAttribute(\\'action\\');\\n          if(action && action.indexOf(\\'/cart\\') >= 0) {\\n            addListener(document.forms[i], \\'submit\\', decorate);\\n          }\\n        }\\n        for (var i=0; i < document.links.length; i++) {\\n          var href = document.links[i].getAttribute(\\'href\\');\\n          if(href && href.indexOf(\\'/checkout\\') >= 0) {\\n            addListener(document.links[i], \\'click\\', decorate);\\n          }\\n        }\\n      });\\n    \\n\\n              var originalDocumentWrite = document.write;\\n              document.write = customDocumentWrite;\\n              try { ga(\\'require\\', \\'displayfeatures\\'); } catch(e) {};\\n              document.write = originalDocumentWrite;\\n            });\\n          }\\n          analytics.onload = onload;\\n          analytics.onreadystatechange = function() {\\n            if (!/complete|loaded/.test(analytics.readyState)) return;\\n            onload();\\n          }\\n          analytics.async = true;\\n          analytics.src = \"https://cdn.shopify.com/s/javascripts/trekkie.storefront.min.js\";\\n          document.getElementsByTagName(\\'head\\')[0].appendChild(analytics);\\n          \\n      var eventsListenerScript = document.createElement(\\'script\\');\\n      eventsListenerScript.async = true;\\n      eventsListenerScript.src = \"//cdn.shopify.com/s/assets/shop_events_listener-8c4f67517a8a5f85ff0760ef103a15b9.js\";\\n      document.getElementsByTagName(\\'head\\')[0].appendChild(eventsListenerScript);\\n    \\n        })();\\n      ',\n",
       " u\"\\n(function (d, w) {\\n  var x = d.getElementsByTagName('SCRIPT')[0], g = d.createElement('SCRIPT'); \\n  g.type = 'text/javascript';\\n  g.async = true;\\n  g.src = ('https:' == d.location.protocol ? 'https://ssl' : 'http://www') + '.google-analytics.com/ga.js';\\n  x.parentNode.insertBefore(g, x);\\n}(document, window));\\n\",\n",
       " u\"(function() {\\n  var _fbq = window._fbq || (window._fbq = []);\\n  if (!_fbq.loaded) {\\n    var fbds = document.createElement('script');\\n    fbds.async = true;\\n    fbds.src = '//connect.facebook.net/en_US/fbds.js';\\n    var s = document.getElementsByTagName('script')[0];\\n    s.parentNode.insertBefore(fbds, s);\\n    _fbq.loaded = true;\\n  }\\n  _fbq.push(['addPixelId', '571288352980439']);\\n})();\\nwindow._fbq = window._fbq || [];\\nwindow._fbq.push(['track', 'PixelInitialized', {}]);\\n\",\n",
       " u'(function(d) {var e = d.createElement(\\'script\\');e.src = d.location.protocol + \\'//app.yieldify.com/yieldify/code.js?yieldify_id=4214&loca=\\'+window.location.href;e.async = true;d.getElementsByTagName(\"head\")[0].appendChild(e);}(document));',\n",
       " u\"\\n!function(f,b,e,v,n,t,s){if(f.fbq)return;n=f.fbq=function(){n.callMethod?\\nn.callMethod.apply(n,arguments):n.queue.push(arguments)};if(!f._fbq)f._fbq=n;\\nn.push=n;n.loaded=!0;n.version='2.0';n.queue=[];t=b.createElement(e);t.async=!0;\\nt.src=v;s=b.getElementsByTagName(e)[0];s.parentNode.insertBefore(t,s)}(window,\\ndocument,'script','//connect.facebook.net/en_US/fbevents.js');\\n\\nfbq('init', '480834102079533');\\nfbq('track', 'PageView');\\n\",\n",
       " u'\\n!function(f,b,e,v,n,t,s){if(f.fbq)return;n=f.fbq=function(){n.callMethod?\\nn.callMethod.apply(n,arguments):n.queue.push(arguments)};if(!f._fbq)f._fbq=n;\\nn.push=n;n.loaded=!0;n.version=\\'2.0\\';n.queue=[];t=b.createElement(e);t.async=!0;\\nt.src=v;s=b.getElementsByTagName(e)[0];s.parentNode.insertBefore(t,s)}(window,\\ndocument,\\'script\\',\\'//connect.facebook.net/en_US/fbevents.js\\');\\n\\nfbq(\\'init\\', \\'480834102079533\\');\\nfbq(\\'track\\', \"PageView\");',\n",
       " u'(function(d, s, id) {\\n\\t  var js, fjs = d.getElementsByTagName(s)[0];\\n\\t  if (d.getElementById(id)) return;\\n\\t  js = d.createElement(s); js.id = id;\\n\\t  js.src = \"//connect.facebook.net/en_US/all.js#xfbml=1&appId=1743713679100277\";\\n\\t  fjs.parentNode.insertBefore(js, fjs);\\n\\t}(document, \\'script\\', \\'facebook-jssdk\\'));',\n",
       " u\"\\n  \\tvar siteCurrencySymbol = '\\u20ac';\\n  \\tvar siteCurrencyString = 'EUR';\\n\",\n",
       " u\"\\n            var slider;\\n            $( document ).ready(function() {\\n              slider = $('#productimagecarousel').bxSlider({controls:false, slideWidth:200});\\n            });\\n            \",\n",
       " u'\\n    $( \".tagtray-gallery\" ).on( \"shown.tt.gallery\", function(event, numPhotos) {\\n        if (numPhotos > 0) {\\n            $(\\'.TagTrayGalleryImages\\').bxSlider({\\n                minSlides: 1,\\n                maxSlides: 5,\\n                slideWidth: 215,\\n                pager: false,\\n                slideMargin: 5\\n            });\\n            $( \".tag-your-photos\" ).show();\\n        }\\n    });\\n',\n",
       " u'\\njQuery(function($) {\\n  var selectCallback = function(variant, selector) {\\n    if (variant) {\\n      if (variant.available) {\\n        // Selected a valid variant that is available.\\n        $(\\'#add\\').removeClass(\\'disabled\\').removeAttr(\\'disabled\\').val(\\'Add to Cart\\').fadeTo(200,1);\\n        if($(\\'.btn.add-to-cart.xmas\\').length)\\n        {\\n        \\t$(\\'.btn.add-to-cart.xmas\\').val($(\\'.btn.add-to-cart.xmas\\').data(\"label\").replace(\\'<span class=money>\\', \\'\\').replace(\\'</span>\\',\\'\\'));\\n        \\t$(\\'.btn.add-to-cart.xmas\\').addClass(\\'disabled\\').attr(\\'disabled\\', \\'disabled\\');\\n        }\\n      } else {\\n        // Variant is sold out.\\n        $(\\'#add\\').val(\\'Sold Out\\').addClass(\\'disabled\\').attr(\\'disabled\\', \\'disabled\\').fadeTo(200,0.5);  \\n        if($(\\'.btn.add-to-cart.xmas\\').length)\\n        {\\n        \\t$(\\'.btn.add-to-cart.xmas\\').val($(\\'.btn.add-to-cart.xmas\\').data(\"label\").replace(\\'<span class=money>\\', \\'\\').replace(\\'</span>\\',\\'\\'));\\n        \\t$(\\'.btn.add-to-cart.xmas\\').addClass(\\'disabled\\').attr(\\'disabled\\', \\'disabled\\');\\n        }\\n      }\\n              \\n    } else {\\n      // variant doesn\\'t exist.\\n      $(\\'#add\\').val(\\'Unavailable\\').addClass(\\'disabled\\').attr(\\'disabled\\', \\'disabled\\').fadeTo(200,0.5);\\n      if($(\\'.btn.add-to-cart.xmas\\').length)\\n      {\\n      \\t$(\\'.btn.add-to-cart.xmas\\').val($(\\'.btn.add-to-cart.xmas\\').data(\"label\").replace(\\'<span class=money>\\', \\'\\').replace(\\'</span>\\',\\'\\'));\\n      \\t$(\\'.btn.add-to-cart.xmas\\').addClass(\\'disabled\\').attr(\\'disabled\\', \\'disabled\\');\\n      }\\n    }\\n  };\\n  new Shopify.OptionSelectors(\\'product-select\\', { product: {\"id\":430796128,\"title\":\"Cowes\",\"handle\":\"cowes\",\"description\":\"\\\\u003cdiv class=\\\\\"short\\\\\"\\\\u003eBrushed Silver\\\\u003cbr\\\\u003e Silver Face\\\\u003c\\\\/div\\\\u003e\\\\n\\\\u003cdiv class=\\\\\"long\\\\\"\\\\u003eInspired by the look of venerable explorer watches, our watches are designed to mirror vintage timepieces with modern design features and are fully equipped to both stand out and weather the demands of a modern lifestyle.\\\\u003cbr\\\\u003e\\\\u003cbr\\\\u003e\\\\u003cb\\\\u003eOuter Casing:\\\\u003c\\\\/b\\\\u003e Silver Plated 316L Stainless Steel\\\\u003cbr\\\\u003e \\\\u003cb\\\\u003eMovement:\\\\u003c\\\\/b\\\\u003e Miyota Quartz Movement\\\\u003cbr\\\\u003e\\\\u003cb\\\\u003eGlass:\\\\u003c\\\\/b\\\\u003e Scratch Resistant Sapphire Crystal\\\\u003cbr\\\\u003e \\\\u003cb\\\\u003eWater Proof:\\\\u003c\\\\/b\\\\u003e 100 meters\\\\u003cbr\\\\u003e \\\\u003cb\\\\u003eDial Diameter \\\\u0026amp; Thickness:\\\\u003c\\\\/b\\\\u003e 39mm \\\\u0026amp; 7.9mm\\\\u003cbr\\\\u003e\\\\u003cspan class=\\\\\"straplabelcontainer\\\\\"\\\\u003e\\\\u003cb\\\\u003eSTRAP CHOICE:\\\\u003c\\\\/b\\\\u003e \\\\u003cspan class=\\\\\"straplabel\\\\\"\\\\u003e\\\\u003c\\\\/span\\\\u003e\\\\u003c\\\\/span\\\\u003e\\\\n\\\\u003c\\\\/div\\\\u003e\",\"published_at\":\"2015-02-21T17:12:00+00:00\",\"created_at\":\"2015-02-21T11:40:01+00:00\",\"vendor\":\"Online Store\",\"type\":\"Watch\",\"tags\":[\"faces\",\"Project 2\"],\"price\":12500,\"price_min\":12500,\"price_max\":12500,\"available\":true,\"price_varies\":false,\"compare_at_price\":null,\"compare_at_price_min\":0,\"compare_at_price_max\":0,\"compare_at_price_varies\":false,\"variants\":[{\"id\":1177668856,\"title\":\"Watch\",\"options\":[\"Watch\"],\"option1\":\"Watch\",\"option2\":null,\"option3\":null,\"price\":12500,\"weight\":0,\"compare_at_price\":null,\"inventory_quantity\":333,\"inventory_management\":\"shopify\",\"inventory_policy\":\"continue\",\"available\":true,\"sku\":\"P2SS\",\"requires_shipping\":true,\"taxable\":true,\"barcode\":\"5060412360425\",\"featured_image\":{\"id\":1272001236,\"product_id\":430796128,\"position\":6,\"created_at\":\"2015-03-25T18:14:08+00:00\",\"updated_at\":\"2015-06-16T14:38:49+01:00\",\"src\":\"https:\\\\/\\\\/cdn.shopify.com\\\\/s\\\\/files\\\\/1\\\\/0716\\\\/2745\\\\/products\\\\/facecowes.jpg?v=1434461929\",\"variant_ids\":[1177668856]}}],\"images\":[\"\\\\/\\\\/cdn.shopify.com\\\\/s\\\\/files\\\\/1\\\\/0716\\\\/2745\\\\/products\\\\/Cowes_with_Black_Leather_Strap.jpg?v=1434461929\",\"\\\\/\\\\/cdn.shopify.com\\\\/s\\\\/files\\\\/1\\\\/0716\\\\/2745\\\\/products\\\\/Cowes_with_Black_Leather_Strap_5.jpg?v=1434461929\",\"\\\\/\\\\/cdn.shopify.com\\\\/s\\\\/files\\\\/1\\\\/0716\\\\/2745\\\\/products\\\\/Cowes_with_Black_Leather_Strap_3.jpg?v=1434461929\",\"\\\\/\\\\/cdn.shopify.com\\\\/s\\\\/files\\\\/1\\\\/0716\\\\/2745\\\\/products\\\\/Cowes_with_black_leather_strap_6.jpg?v=1434461929\",\"\\\\/\\\\/cdn.shopify.com\\\\/s\\\\/files\\\\/1\\\\/0716\\\\/2745\\\\/products\\\\/Cowes_with_black_leather_strap_4.jpg?v=1434461929\",\"\\\\/\\\\/cdn.shopify.com\\\\/s\\\\/files\\\\/1\\\\/0716\\\\/2745\\\\/products\\\\/facecowes.jpg?v=1434461929\"],\"featured_image\":\"\\\\/\\\\/cdn.shopify.com\\\\/s\\\\/files\\\\/1\\\\/0716\\\\/2745\\\\/products\\\\/Cowes_with_Black_Leather_Strap.jpg?v=1434461929\",\"options\":[\"Title\"],\"content\":\"\\\\u003cdiv class=\\\\\"short\\\\\"\\\\u003eBrushed Silver\\\\u003cbr\\\\u003e Silver Face\\\\u003c\\\\/div\\\\u003e\\\\n\\\\u003cdiv class=\\\\\"long\\\\\"\\\\u003eInspired by the look of venerable explorer watches, our watches are designed to mirror vintage timepieces with modern design features and are fully equipped to both stand out and weather the demands of a modern lifestyle.\\\\u003cbr\\\\u003e\\\\u003cbr\\\\u003e\\\\u003cb\\\\u003eOuter Casing:\\\\u003c\\\\/b\\\\u003e Silver Plated 316L Stainless Steel\\\\u003cbr\\\\u003e \\\\u003cb\\\\u003eMovement:\\\\u003c\\\\/b\\\\u003e Miyota Quartz Movement\\\\u003cbr\\\\u003e\\\\u003cb\\\\u003eGlass:\\\\u003c\\\\/b\\\\u003e Scratch Resistant Sapphire Crystal\\\\u003cbr\\\\u003e \\\\u003cb\\\\u003eWater Proof:\\\\u003c\\\\/b\\\\u003e 100 meters\\\\u003cbr\\\\u003e \\\\u003cb\\\\u003eDial Diameter \\\\u0026amp; Thickness:\\\\u003c\\\\/b\\\\u003e 39mm \\\\u0026amp; 7.9mm\\\\u003cbr\\\\u003e\\\\u003cspan class=\\\\\"straplabelcontainer\\\\\"\\\\u003e\\\\u003cb\\\\u003eSTRAP CHOICE:\\\\u003c\\\\/b\\\\u003e \\\\u003cspan class=\\\\\"straplabel\\\\\"\\\\u003e\\\\u003c\\\\/span\\\\u003e\\\\u003c\\\\/span\\\\u003e\\\\n\\\\u003c\\\\/div\\\\u003e\"}, onVariantSelected: selectCallback });\\n  // Add label if only one product option and it isn\\'t \\'Title\\'.\\n  \\n  // Auto-select first available variant on page load.\\n  \\n  \\n    \\n      \\n      \\n      $(\\'.single-option-selector:eq(0)\\').val(\"Watch\").trigger(\\'change\\');\\n      \\n    \\n  \\n  \\n  \\t$(\\'.choosecolour.watch\\').each(function()\\n    {\\n      \\t$(this).click(function(){\\n    \\t\\t$(\\'.choosecolour\\').removeClass(\\'active\\');\\n          \\t$(this).addClass(\\'active\\');\\n          \\t$(\\'#product-select option[value=\"\\' + $(this).data(\\'id\\') + \\'\"]\\').prop(\\'selected\\', true);\\n          \\t$(\\'#additionalstrapval\\').val($(this).data(\\'title\\'));\\n          \\t$(\\'#additionalstrapsku\\').val($(this).data(\\'id\\'));\\n        });\\n\\t});\\n   \\n  \\t\\n   \\tif($(\\'.choosecolour.strap\\').length)\\n   \\t{\\n      \\t$(\\'#product-select-option-0\\').change(function()\\n\\t\\t{\\n          \\tnewValue = $(this).val();\\n          \\n          \\t$(\\'.choosecolour.strap\\').removeClass(\"active\");\\n          \\n          \\tswitch($(\\'#product-select-option-0\\')[0].selectedIndex) {\\n                case 1:\\n                    className \\t= \\'b\\';\\n                \\tslideNumber\\t= 2;\\n                    break;\\n                case 2:\\n                    className \\t= \\'c\\';\\n                \\tslideNumber\\t= 4;\\n                    break;\\n                case 3:\\n                    className \\t= \\'d\\';\\n                \\tslideNumber\\t= 6;\\n                    break;\\n                default:\\n                    className \\t= \\'a\\';\\n                \\tslideNumber\\t= 0;\\n            }\\n          \\n          \\t//mobiles\\n          \\t$(\\'.a, .b, .c, .d\\').hide();\\n          \\tslider.destroySlider();\\n          \\t$(\\'.\\' + className).show();\\n          \\tslider\\t= $(\\'.\\' + className + \\' .strapscarousel\\').bxSlider({controls:false});\\n          \\t//$(\\'.strapscarousel\\').bxSlider({controls:false});\\n          \\n          \\t//desktop\\n            $(\\'#gallery .preview\\').hide();\\n          \\t$(\\'#gallery .preview\\').removeClass(\\'active\\');\\n          \\t$(\\'#gallery .preview.\\' + className).css(\\'display\\', \\'block\\');\\n          \\t$(\\'#gallery .preview.\\' + className + \\':first\\').addClass(\\'active\\');\\n          \\t$(\\'.smallimage\\').filter(\\':visible\\').filter(\\':first\\').trigger(\\'click\\')\\n\\t\\t\\t\\n          \\t$.each($(\\'.choosecolour.strap\\'), function(index, el)\\n            {\\n            \\tdataValue = $(el).data(\"title\");\\n            \\n            \\tif(newValue == dataValue)\\n            \\t{\\n              \\t\\t$(el).addClass(\"active\");\\n              \\t\\t$(el).trigger(\\'click\\');\\n            \\t}\\n          \\t});\\n          window.setTimeout(function(){\\n         \\t$(\\'.zoomContainer\\').remove();\\n     \\t\\t$(\\'#feature-image\\').removeData(\\'elevateZoom\\');\\n            $(\"#feature-image\").elevateZoom({zoomWindowOffety: -40,\\n              zoomType : \"inner\",\\n              cursor: \"crosshair\", responsive:true\\n          \\t});\\n          \\n          }, 1000);\\n      \\t});\\n   \\t}\\n   \\n   \\n   $(\\'.smallimage\\').click(function(){\\n     \\t$(\\'.zoomContainer\\').remove();\\n     \\t$(\\'#feature-image\\').removeData(\\'elevateZoom\\');\\n     \\t$(\\'#gallery .preview\\').removeClass(\\'active\\');\\n     \\t$(this).parent(\\'.preview\\').addClass(\\'active\\');\\n     \\t$(\\'#feature-image\\').prop(\\'src\\', $(this).data(\\'big\\'));\\n     \\t$(\\'.mobile\\').prop(\\'src\\', $(this).data(\\'big\\'));\\n     \\t$(\\'#feature-image\\').data(\\'zoom-image\\', $(this).data(\\'big\\'));\\n     \\tclickIndex\\t= $(this).data(\\'index\\');\\n     \\t$(\"#feature-image\").elevateZoom({zoomWindowOffety: -40,\\n          \\tzoomType : \"inner\",\\n\\t\\t\\tcursor: \"crosshair\", responsive:true\\n        });\\n     \\n   });\\n   var clasp\\t\\t\\t= \"Gold Clasp\";\\n   var clickIndex\\t\\t= 1;\\n   var imagesPerStrap\\t= 3;\\n   \\n   var preloads = [];\\n   var fancyImages = [];\\n    \\n  \\t\\tpreloads.push(\\'//cdn.shopify.com/s/files/1/0716/2745/products/Cowes_with_Black_Leather_Strap.jpg?v=1434461929\\');\\n        fancyImages.push({href : \\'//cdn.shopify.com/s/files/1/0716/2745/products/Cowes_with_Black_Leather_Strap.jpg?v=1434461929\\'});\\n    \\n  \\t\\tpreloads.push(\\'//cdn.shopify.com/s/files/1/0716/2745/products/Cowes_with_Black_Leather_Strap_5.jpg?v=1434461929\\');\\n        fancyImages.push({href : \\'//cdn.shopify.com/s/files/1/0716/2745/products/Cowes_with_Black_Leather_Strap_5.jpg?v=1434461929\\'});\\n    \\n  \\t\\tpreloads.push(\\'//cdn.shopify.com/s/files/1/0716/2745/products/Cowes_with_Black_Leather_Strap_3.jpg?v=1434461929\\');\\n        fancyImages.push({href : \\'//cdn.shopify.com/s/files/1/0716/2745/products/Cowes_with_Black_Leather_Strap_3.jpg?v=1434461929\\'});\\n    \\n  \\t\\tpreloads.push(\\'//cdn.shopify.com/s/files/1/0716/2745/products/Cowes_with_black_leather_strap_6.jpg?v=1434461929\\');\\n        fancyImages.push({href : \\'//cdn.shopify.com/s/files/1/0716/2745/products/Cowes_with_black_leather_strap_6.jpg?v=1434461929\\'});\\n    \\n  \\t\\tpreloads.push(\\'//cdn.shopify.com/s/files/1/0716/2745/products/Cowes_with_black_leather_strap_4.jpg?v=1434461929\\');\\n        fancyImages.push({href : \\'//cdn.shopify.com/s/files/1/0716/2745/products/Cowes_with_black_leather_strap_4.jpg?v=1434461929\\'});\\n    \\n  \\t\\tpreloads.push(\\'//cdn.shopify.com/s/files/1/0716/2745/products/facecowes.jpg?v=1434461929\\');\\n        fancyImages.push({href : \\'//cdn.shopify.com/s/files/1/0716/2745/products/facecowes.jpg?v=1434461929\\'});\\n    \\n    $(preloads).each(function(){\\n      \\timg \\t= new Image()\\n    \\timg.src = this;\\n    });\\n\\t\\n  \\t$(\\'.shippinginfo\\').popover({animation:true,html:true, placement:\\'auto left\\'});\\n  \\n  \\tif($(\\'#product-select-option-0\\').length)\\n    {\\n      \\tif($(\\'#product-select-option-0\\')[0].length == 1)\\n        {\\n         \\t$(\\'#product-select-option-0\\').hide(); \\n        }\\n    }\\n});\\n',\n",
       " u'// <![CDATA[\\n\\tvar watchesData;\\n    var currentWatch;\\n    var currentStrapChoice;\\n    var strapPrices;\\n    var watchFaceIndex \\t= 0;\\n   \\tvar optionIndex\\t\\t= 0;\\n    var watchPrice\\t\\t= $(\\'.itemprice\\').data(\"price\");\\n      \\n    function setSliders()\\n      {\\n        console.log(\\'setting sliders\\');\\n        watchItems\\t\\t\\t= 3;\\n        watchItemsHeight\\t= 370;\\n        strapItems\\t\\t\\t= 5;\\n        strapItemsHeight\\t= 352;\\n\\n        if ($(window).width() < 782) {\\n          watchItems\\t\\t\\t= 2;\\n          watchItemsHeight\\t= 250;\\n          strapItems\\t\\t\\t= 4;\\n          strapItemsHeight\\t= 220;\\n        }\\n        $(\".strapoptions\").carouFredSel({\\n          items\\t\\t: strapItems,\\n          height\\t\\t: strapItemsHeight,\\n          width\\t\\t: 170,\\n          direction\\t: \"up\",\\n          auto        : {play:false},\\n          align\\t\\t: \"right\",\\n          prev\\t\\t: {button : \\'#strapoptionsprev\\'},\\n          next\\t\\t: {button : \\'#strapoptionsnext\\'},\\n          items       : {start\\t: optionIndex}\\n        }); \\n      }\\n\\n    $(document).ready(function() {\\n      \\t\\n      \\t$.getJSON(\"//webservice-ec.shoreprojects.com/strapprices/\", function(data) {\\n            strapPrices = data;\\n        });\\n        $.getJSON(jsonImages, function(data) {\\n            watchesData = data.watches;\\n          \\n          \\t$.each(watchesData, function(watchIndex, watch){\\n              \\tselected\\t= watch.label == \\'Cowes\\';\\n              \\t//$(\\'.verticalslider\\').append($(\\'<img height=\"113\" alt=\"\\' + watch.label + \\'\" title=\"\\' + watch.label + \\'\" src=\"\\' + path + \\'face\\' + watch.label.replace(/ /g, \\'\\').toLowerCase() + \\'.jpg\" class=\"watchface\\' + (selected ? \\' selected\\' : \\'\\') + \\'\" data-handle=\"\\' + watch.label + \\'\">\\'));\\n              \\tif(selected)\\n                {\\n              \\t\\twatchFaceIndex = watchIndex;\\n                }\\n          \\t});\\n              \\n          \\t$(\\'.watchface\\').click(function(){\\n            \\tlocation.href = \\'/collections/watches/products/\\' + $(this).data(\"handle\").replace(/ /g, \\'-\\').toLowerCase() + \\'#product\\';\\n          \\t});\\n              \\n          \\t$.each(watchesData, function(watchIndex, watch){\\n              \\tif(watch.label == \\'Cowes\\')\\n                {\\n                   \\tcurrentWatch\\t= watchesData[watchIndex];\\n                }\\n          \\t});\\n              \\n            $.each(currentWatch.options, function(strapIndex, strap){\\n           \\t\\tselected\\t= defaultStraps[\\'Cowes\\'] == strap.StrapHandle;\\n                                                \\n                $(\\'.strapoptions\\').append($(\\'<img height=\"59\" alt=\"\\' + strap.StrapHandle + \\'\" title=\"\\' + strap.StrapHandle + \\'\" src=\"\\' + path + \\'straps-2-\\' + strap.StrapHandle.replace(/ /g, \\'-\\').toLowerCase() + \\'.png\\' + cdnqs + \\'\" class=\"strapoption\\' + (selected ? \\' selected\\' : \\'\\') + \\'\" data-handle=\"\\' + strap.StrapHandle + \\'\">\\'));\\n              \\tif(selected)\\n                {\\n              \\t\\toptionIndex \\t\\t= strapIndex;\\n                    currentStrapChoice\\t= currentWatch.options[optionIndex];\\n              \\t\\tstrapPrice\\t\\t\\t= strapPrices[currentStrapChoice.SKU];\\n              \\t\\tcurrency\\t\\t\\t= siteCurrencySymbol;\\n              \\t\\tcleanWatchPrice\\t\\t= watchPrice.replace(/[^0-9]/g, \\'\\');\\n              \\t\\t$(\\'.itemprice\\').html(currency + (parseInt(cleanWatchPrice) + parseInt(strapPrice)) + \\' \\' + siteCurrencyString);\\n              \\t\\t$(\\'.straplabel\\').html(currentStrapChoice.StrapHandle + \\' \\' + currentStrapChoice.Type);\\n                }\\n            });\\n\\n            $(\\'.strapoption\\').click(function(){\\n              \\t\\n              \\t$(\\'.loadingoverlay\\').addClass(\"show\");\\n              \\t$(\\'.preview\\').css(\"visibility\", \"hidden\");\\n              \\t$(\\'.strapoption\\').removeClass(\"selected\");\\n              \\t$(this).addClass(\"selected\");\\n              \\tvar strapHandle\\t= $(this).data(\"handle\");\\n              \\twindow.setTimeout(function(){\\n                  $.each(currentWatch.options, function(strapIndex, strap){\\n                      if(strapHandle == strap.StrapHandle)\\n                      {\\n                          currentStrapChoice\\t= strap; \\n                          strapPrice\\t\\t\\t= strapPrices[currentStrapChoice.SKU];\\n                          currency\\t\\t\\t\\t= siteCurrencySymbol;\\n                          cleanWatchPrice\\t\\t= watchPrice.replace(/[^0-9]/g, \\'\\');\\n                          $(\\'.itemprice\\').html(currency + (parseInt(cleanWatchPrice) + parseInt(strapPrice)) + \\' \\' + siteCurrencyString);\\n                          $(\\'.straplabel\\').html(currentStrapChoice.StrapHandle + \\' \\' + currentStrapChoice.Type);\\n                      }\\n                  });\\n\\n                  $(\\'#images .bx-wrapper\\').remove();\\n                  $(\\'#images .a\\').append($(\\'<ul id=\"productimagecarousel\"></ul>\\'));\\n                  $.get( path + currentStrapChoice.Image1 + cdnqs, function( data ) {});\\n                  $.get( path + currentStrapChoice.Image2 + cdnqs, function( data ) {});\\n                  $.get( path + currentStrapChoice.Image3 + cdnqs, function( data ) {});\\n                  $.get( path + currentStrapChoice.Image4 + cdnqs, function( data ) {});\\n                  $.get( path + currentStrapChoice.Image5 + cdnqs, function( data ) {});\\n                  $(\\'#productimagecarousel\\').append($(\\'<li><img src=\"\\' + path + currentStrapChoice.Image1 + cdnqs + \\'\" data-zoom-image=\"\\' + path + currentStrapChoice.Image1 + cdnqs + \\'\" /></li>\\'));\\n                  $(\\'#productimagecarousel\\').append($(\\'<li><img src=\"\\' + path + currentStrapChoice.Image2 + cdnqs + \\'\" data-zoom-image=\"\\' + path + currentStrapChoice.Image2 + cdnqs + \\'\" /></li>\\'));\\n                  $(\\'#productimagecarousel\\').append($(\\'<li><img src=\"\\' + path + currentStrapChoice.Image3 + cdnqs + \\'\" data-zoom-image=\"\\' + path + currentStrapChoice.Image3 + cdnqs + \\'\" /></li>\\'));\\n                  $(\\'#productimagecarousel\\').append($(\\'<li><img src=\"\\' + path + currentStrapChoice.Image4 + cdnqs + \\'\" data-zoom-image=\"\\' + path + currentStrapChoice.Image4 + cdnqs + \\'\" /></li>\\'));\\n                  $(\\'#productimagecarousel\\').append($(\\'<li><img src=\"\\' + path + currentStrapChoice.Image5 + cdnqs + \\'\" data-zoom-image=\"\\' + path + currentStrapChoice.Image5 + cdnqs + \\'\" /></li>\\'));\\n                  $(\\'#productimagecarousel\\').bxSlider({controls:false});\\n\\n                  $(\\'#feature-image\\').prop(\\'src\\', path + currentStrapChoice.Image1 + cdnqs);\\n                  $(\\'.zoomContainer\\').remove();\\n                  $(\\'#feature-image\\').removeData(\\'elevateZoom\\');\\n                  $(\\'#feature-image\\').data(\\'zoom-image\\', path + currentStrapChoice.Image1 + cdnqs);\\n                  $(\\'#feature-image\\').elevateZoom({\\n                      zoomWindowOffety: -40,\\n                      zoomType : \"inner\",\\n                      cursor: \"crosshair\", responsive:true\\n                  });\\n\\n                  $(\\'.preview img\\').each(function(index, image){\\n                      src\\t= path + currentStrapChoice[\"Image\" + (index + 1)] + cdnqs;\\n                      $(this).prop(\\'src\\', src);\\n                      $(this).data(\\'big\\', src);\\n                  });\\n\\n                  $(\\'#gallery .preview\\').removeClass(\\'active\\');\\n                  $(\\'#gallery .preview:first\\').addClass(\\'active\\');\\n                  $(\\'.loadingoverlay\\').removeClass(\"show\");\\n                  window.setTimeout(function(){\\n                    $(\\'.preview\\').css(\"visibility\", \"visible\");\\n                  }, 10);\\n                }, 10);\\n                \\n            });\\n            \\n            \\n              \\n            $(\\'.strapoption.selected\\').trigger(\\'click\\');\\n              window.setTimeout(function(){\\n                $(\\'#images, .preview\\').css(\"visibility\", \"visible\");\\n              }, 500);\\n        });\\n          \\n        function GetQueryStringParams(sParam)\\n        {\\n            var sPageURL = window.location.search.substring(1);\\n            var sURLVariables = sPageURL.split(\\'&\\');\\n            for (var i = 0; i < sURLVariables.length; i++) \\n            {\\n                var sParameterName = sURLVariables[i].split(\\'=\\');\\n                if (sParameterName[0] == sParam) \\n                {\\n                    return sParameterName[1];\\n                }\\n            }\\n          \\treturn false;\\n        }\\n          \\n        if(GetQueryStringParams(\\'option\\'))\\n        {\\n          //alert(GetQueryStringParams(\\'option\\'));\\n          optionValue\\t= decodeURIComponent(GetQueryStringParams(\\'option\\'))\\n          strapElement\\t= $(\".strapoption\").filter(\\'[data-handle=\"\\' + optionValue + \\'\"]\\');\\n          if(strapElement.length)\\n          {\\n            $(strapElement).trigger(\\'click\\');\\n\\n            $.each($(\".strapoption\"), function(index, element){\\n              if($(element).data(\"handle\") == optionValue)\\n              {\\n                optionIndex = index;\\n                setSliders(); \\n              }\\n            });\\n          }\\n          \\n        }else\\n        {\\n         \\tsetSliders(); \\n        }\\n        $( window ).resize(function() {\\n            setSliders();\\n        });\\n    });\\n    // ]]>',\n",
       " u'\\n\\t\\t\\t$( document ).ready(function() {\\n\\t\\t\\t});\\n\\t\\t',\n",
       " u'\\n\\n\\nCurrency.format = \\'money_format\\';\\n\\n\\nvar shopCurrency = \\'EUR\\';\\n\\n/* Sometimes merchants change their shop currency, let\\'s tell our JavaScript file */\\nCurrency.moneyFormats[shopCurrency].money_with_currency_format = \"\\\\u0026euro;{{amount_no_decimals}} EUR\";\\nCurrency.moneyFormats[shopCurrency].money_format = \"\\\\u0026euro;{{amount_no_decimals}} EUR\";\\n  \\n/* Default currency */\\nvar defaultCurrency = \\'GBP\\' || shopCurrency;\\n  \\n/* Cookie currency */\\nvar cookieCurrency = Currency.cookie.read();\\n\\n/* Fix for customer account pages */\\njQuery(\\'span.money span.money\\').each(function() {\\n  jQuery(this).parents(\\'span.money\\').removeClass(\\'money\\');\\n});\\n\\n/* Saving the current price */\\njQuery(\\'span.money\\').each(function() {\\n  jQuery(this).attr(\\'data-currency-EUR\\', jQuery(this).html());\\n});\\n\\n// If there\\'s no cookie.\\nif (cookieCurrency == null) {\\n\\tif (shopCurrency !== defaultCurrency) {\\n\\t    Currency.convertAll(shopCurrency, defaultCurrency);\\n  \\t}\\n  \\telse {\\n\\t    Currency.currentCurrency = defaultCurrency;\\n  \\t}\\n} else if (jQuery(\\'[name=currencies]\\').size() && jQuery(\\'[name=currencies] option[value=\\' + cookieCurrency + \\']\\').size() === 0) {\\n  // If the cookie value does not correspond to any value in the currency dropdown.\\n\\tCurrency.currentCurrency = shopCurrency;\\n  \\tCurrency.cookie.write(shopCurrency);\\n  \\n} else if (cookieCurrency === shopCurrency) {\\n  \\tCurrency.currentCurrency = shopCurrency;\\n  \\n} else {\\n  Currency.convertAll(shopCurrency, cookieCurrency);\\n}\\n\\njQuery(\\'[name=currencies]\\').val(Currency.currentCurrency).change(function() {\\n  var newCurrency = jQuery(this).val();\\n  Currency.convertAll(Currency.currentCurrency, newCurrency);\\n  jQuery(\\'.selected-currency\\').text(Currency.currentCurrency);\\n});\\n\\nvar original_selectCallback = window.selectCallback;\\nvar selectCallback = function(variant, selector) {\\n  original_selectCallback(variant, selector);\\n  Currency.convertAll(shopCurrency, jQuery(\\'[name=currencies]\\').val());\\n  jQuery(\\'.selected-currency\\').text(Currency.currentCurrency);\\n};\\n\\njQuery(\\'.selected-currency\\').text(Currency.currentCurrency);\\n\\n',\n",
       " u'\\n/* <![CDATA[ */\\nvar google_conversion_id = 967371096;\\nvar google_custom_params = window.google_tag_params;\\nvar google_remarketing_only = true;\\n/* ]]> */\\n',\n",
       " u'\\n',\n",
       " u'\\n  qcdata = {} || qcdata;\\n       (function(){\\n       var elem = document.createElement(\\'script\\');\\n       elem.src = (document.location.protocol == \"https:\" ? \"https://secure\" : \"http://pixel\") + \".quantserve.com/aquant.js?a=p-YChJcE7nmR0ns\";\\n       elem.async = true;\\n       elem.type = \"text/javascript\";\\n       var scpt = document.getElementsByTagName(\\'script\\')[0];\\n       scpt.parentNode.insertBefore(elem,scpt);\\n     }());\\n\\n\\n   var qcdata = {qacct: \\'p-YChJcE7nmR0ns\\',\\n                        orderid: \\'\\',\\n                        revenue: \\'\\'\\n                        };\\n',\n",
       " u' var cbarProtocol = ((\"https:\" == document.location.protocol) ? \"https://\" : \"http://\");document.write(unescape(\"%3Cscript src=\\'\" + cbarProtocol + \"s3.amazonaws.com/cdn.barilliance.com/shoreprojects.com/cbar.js.php\\'  type=\\'text/javascript\\'%3E%3C/script%3E\"));',\n",
       " u'\\n    var skim_advertiser_id = 39\\n',\n",
       " u\"twttr.conversion.trackPid('l57s4', { tw_sale_amount: 0, tw_order_quantity: 0 });\",\n",
       " u'var ShopifyAPI = ShopifyAPI || {};var langify = langify || {};langify.helper = langify.helper || {getSelectedLanguage: function() {var selectedLanguage = \\'\\';if(selectedLanguage == \\'\\') {selectedLanguage = \\'ly6190\\';}return selectedLanguage;},saveLanguage: function(language) {ShopifyAPI.getCart(function (cart) {var note = cart.note;if(note == \\'null\\') {note = \\'\\';}ShopifyAPI.updateCartNote(note, function () {ShopifyAPI.updateCartAttributes({\\'language\\': language}, function() {langify.loader.reload();});});});}};langify.loader = langify.loader || {loadScript: function(url, callback) {var script = document.createElement(\\'script\\');script.type = \\'text/javascript\\';if(script.readyState) {script.onreadystatechange = function () {if(script.readyState == \\'loaded\\' || script.readyState == \\'complete\\') {script.onreadystatechange = null;callback();}};} else {script.onload = function () {callback();};}script.src = url;document.getElementsByTagName(\\'head\\')[0].appendChild(script);},reload: function() {window.location.reload();}};langify.switcher = langify.switcher || {getSlickSwitcher: function() {var switcher = langify.jquery(\\'select[id=\"ly-slick-languages-switcher\"]\\');if(switcher.length > 0) {return switcher;}return undefined;},getSwitcher: function() {var switcher = $(\\'select[id=\"ly-languages-switcher\"]\\');if (switcher.length > 0) {return switcher;}return undefined;},init: function() {var slickSwitcher = langify.switcher.getSlickSwitcher();if(slickSwitcher) {var selectedLanguage = langify.helper.getSelectedLanguage();if(selectedLanguage != \\'\\') {slickSwitcher.val(selectedLanguage);}langify.loader.loadScript(\\'//cdn.shopify.com/s/files/1/0716/2745/t/2/assets/ly-select-box.js?3608905823858170777\\', function () {slickSwitcher.ddslick({onSelected: function (data) {langify.helper.saveLanguage(data.selectedData.value);}});});}var switcher = langify.switcher.getSwitcher();if(switcher) {var selectedLanguage = langify.helper.getSelectedLanguage();if(selectedLanguage != \\'\\') {switcher.val(selectedLanguage);}switcher.change(function () {langify.helper.saveLanguage(switcher.val());});}$(\\'.ly-languages-switcher-link\\').click(function () {langify.helper.saveLanguage(this.id);});}};langify.translator = langify.translator || {init:function() {var customContents = [];var customTranslations = [];(function($, textFunc) {$.fn.text = function() {if(arguments.length && arguments[0] && typeof arguments[0].replace === \\'function\\') {for(var i = 0; i < customContents.length; ++i) {var customContent = customContents[i].replace(/ly_dq/g, \\'\\\\\"\\');customContent = customContent.replace(/ly_sq/g, \\'\\\\\\'\\');var customTranslation = customTranslations[i].replace(/ly_dq/g, \\'\\\\\"\\');customTranslation = customTranslation.replace(/ly_sq/g, \\'\\\\\\'\\');arguments[0] = arguments[0].replace(new RegExp(\"\\\\\\\\b[^\\\\\"\\\\\\']\" + customContent.replace(/[\\\\-\\\\[\\\\]\\\\/\\\\{\\\\}\\\\(\\\\)\\\\*\\\\+\\\\?\\\\.\\\\\\\\\\\\^\\\\$\\\\|]/g, \"\\\\\\\\$&\") + \"[^\\\\\"\\\\\\']\\\\\\\\b\", \"g\"), customTranslation);if(arguments[0] == customContent) {arguments[0] = arguments[0].replace(customContent, customTranslation);}}}return textFunc.apply(this, arguments);};})(jQuery, jQuery.fn.text);(function($, htmlFunc) {$.fn.html = function() {if(arguments.length && arguments[0] && typeof arguments[0].replace === \\'function\\') {for(var i = 0; i < customContents.length; ++i) {var customContent = customContents[i].replace(/ly_dq/g, \\'\\\\\"\\');customContent = customContent.replace(/ly_sq/g, \\'\\\\\\'\\');var customTranslation = customTranslations[i].replace(/ly_dq/g, \\'\\\\\"\\');customTranslation = customTranslation.replace(/ly_sq/g, \\'\\\\\\'\\');arguments[0] = arguments[0].replace(new RegExp(\"\\\\\\\\b[^\\\\\"\\\\\\']\" + customContent.replace(/[\\\\-\\\\[\\\\]\\\\/\\\\{\\\\}\\\\(\\\\)\\\\*\\\\+\\\\?\\\\.\\\\\\\\\\\\^\\\\$\\\\|]/g, \"\\\\\\\\$&\") + \"[^\\\\\"\\\\\\']\\\\\\\\b\", \"g\"), customTranslation);if(arguments[0] == customContent) {arguments[0] = arguments[0].replace(customContent, customTranslation);}}}return htmlFunc.apply(this, arguments);};})(jQuery, jQuery.fn.html);(function($, valFunc) {$.fn.val = function() {if(arguments.length && arguments[0] && typeof arguments[0].replace === \\'function\\') {for(var i = 0; i < customContents.length; ++i) {var customContent = customContents[i].replace(/ly_dq/g, \\'\\\\\"\\');customContent = customContent.replace(/ly_sq/g, \\'\\\\\\'\\');var customTranslation = customTranslations[i].replace(/ly_dq/g, \\'\\\\\"\\');customTranslation = customTranslation.replace(/ly_sq/g, \\'\\\\\\'\\');arguments[0] = arguments[0].replace(new RegExp(\"\\\\\\\\b[^\\\\\"\\\\\\']\" + customContent.replace(/[\\\\-\\\\[\\\\]\\\\/\\\\{\\\\}\\\\(\\\\)\\\\*\\\\+\\\\?\\\\.\\\\\\\\\\\\^\\\\$\\\\|]/g, \"\\\\\\\\$&\") + \"[^\\\\\"\\\\\\']\\\\\\\\b\", \"g\"), customTranslation);if(arguments[0] == customContent) {arguments[0] = arguments[0].replace(customContent, customTranslation);}}}return valFunc.apply(this, arguments);};})(jQuery, jQuery.fn.val);}};langify.currency = langify.currency || {getHasSelectedCurrency: function() {return \\'\\' == \\'true\\';},getCurrencyForLanguage: function(language) {var languageToCurrencies = [];languageToCurrencies[\\'ly6190\\'] = \\'EUR\\';languageToCurrencies[\\'ly6191\\'] = \\'EUR\\';return languageToCurrencies[language];},getCurrencySwitcher: function() {var currencySwitcher = $(\\'#currencies\\');if(currencySwitcher.length) {return currencySwitcher;} else {return null;}},init: function() {if(!langify.currency.getHasSelectedCurrency()) {  }}};langify.core = langify.core || {onComplete: function() {ShopifyAPI.attributeToString = function(attribute) {if((typeof attribute) !== \\'string\\') {attribute += \\'\\';if(attribute === \\'undefined\\') {attribute = \\'\\';}}return jQuery.trim(attribute);};ShopifyAPI.getCart = function(callback) {jQuery.getJSON(\\'/cart.js\\', function (cart, textStatus) {if((typeof callback) === \\'function\\') {callback(cart);}});};ShopifyAPI.updateCartNote = function(note, callback) {var params = {type: \\'POST\\',url: \\'/cart/update.js\\',data: \\'note=\\' + this.attributeToString(note),dataType: \\'json\\',success: function(cart) {if((typeof callback) === \\'function\\') {callback(cart);}},error: this.onError};jQuery.ajax(params);};ShopifyAPI.updateCartAttributes = function(attributes, callback) {var data = \\'\\';var that = this;if(jQuery.isArray(attributes)) {jQuery.each(attributes, function(indexInArray, valueOfElement) {var key = that.attributeToString(valueOfElement.key);if (key !== \\'\\') {data += \\'attributes[\\' + key + \\']=\\' + that.attributeToString(valueOfElement.value) + \\'&\\';}});} else if ((typeof attributes === \\'object\\') && attributes !== null) {jQuery.each(attributes, function(key, value) {data += \\'attributes[\\' + that.attributeToString(key) + \\']=\\' + that.attributeToString(value) + \\'&\\';});}var params = {type: \\'POST\\',url: \\'/cart/update.js\\',data: data,dataType: \\'json\\',success: function(cart) {if((typeof callback) === \\'function\\') {callback(cart);}},error: this.onError};jQuery.ajax(params);};ShopifyAPI.onError = function(XMLHttpRequest, textStatus) {};langify.switcher.init();langify.translator.init();langify.currency.init();},init: function() {if(typeof jQuery === \\'undefined\\') {langify.loader.loadScript(\\'//ajax.googleapis.com/ajax/libs/jquery/1.9.1/jquery.min.js\\', function() {langify.jquery = $;langify.core.onComplete();});} else if(parseFloat(jQuery.fn.jquery) < 1.7) {langify.loader.loadScript(\\'//ajax.googleapis.com/ajax/libs/jquery/1.9.1/jquery.min.js\\', function() {langify.jquery = jQuery.noConflict(true);langify.core.onComplete();});} else {langify.jquery = $;langify.core.onComplete();}}};langify.core.init();']"
      ]
     },
     "execution_count": 73,
     "metadata": {},
     "output_type": "execute_result"
    }
   ],
   "source": [
    "selector.xpath('.//script/text()').extract()"
   ]
  },
  {
   "cell_type": "code",
   "execution_count": 82,
   "metadata": {
    "collapsed": false
   },
   "outputs": [
    {
     "name": "stdout",
     "output_type": "stream",
     "text": [
      "\n",
      "jQuery(function($) {\n",
      "  var selectCallback = function(variant, selector) {\n",
      "    if (variant) {\n",
      "      if (variant.available) {\n",
      "        // Selected a valid variant that is available.\n",
      "        $('#add').removeClass('disabled').removeAttr('disabled').val('Add to Cart').fadeTo(200,1);\n",
      "        if($('.btn.add-to-cart.xmas').length)\n",
      "        {\n",
      "        \t$('.btn.add-to-cart.xmas').val($('.btn.add-to-cart.xmas').data(\"label\").replace('<span class=money>', '').replace('</span>',''));\n",
      "        \t$('.btn.add-to-cart.xmas').addClass('disabled').attr('disabled', 'disabled');\n",
      "        }\n",
      "      } else {\n",
      "        // Variant is sold out.\n",
      "        $('#add').val('Sold Out').addClass('disabled').attr('disabled', 'disabled').fadeTo(200,0.5);  \n",
      "        if($('.btn.add-to-cart.xmas').length)\n",
      "        {\n",
      "        \t$('.btn.add-to-cart.xmas').val($('.btn.add-to-cart.xmas').data(\"label\").replace('<span class=money>', '').replace('</span>',''));\n",
      "        \t$('.btn.add-to-cart.xmas').addClass('disabled').attr('disabled', 'disabled');\n",
      "        }\n",
      "      }\n",
      "              \n",
      "    } else {\n",
      "      // variant doesn't exist.\n",
      "      $('#add').val('Unavailable').addClass('disabled').attr('disabled', 'disabled').fadeTo(200,0.5);\n",
      "      if($('.btn.add-to-cart.xmas').length)\n",
      "      {\n",
      "      \t$('.btn.add-to-cart.xmas').val($('.btn.add-to-cart.xmas').data(\"label\").replace('<span class=money>', '').replace('</span>',''));\n",
      "      \t$('.btn.add-to-cart.xmas').addClass('disabled').attr('disabled', 'disabled');\n",
      "      }\n",
      "    }\n",
      "  };\n",
      "  new Shopify.OptionSelectors('product-select', { product: {\"id\":430796128,\"title\":\"Cowes\",\"handle\":\"cowes\",\"description\":\"\\u003cdiv class=\\\"short\\\"\\u003eBrushed Silver\\u003cbr\\u003e Silver Face\\u003c\\/div\\u003e\\n\\u003cdiv class=\\\"long\\\"\\u003eInspired by the look of venerable explorer watches, our watches are designed to mirror vintage timepieces with modern design features and are fully equipped to both stand out and weather the demands of a modern lifestyle.\\u003cbr\\u003e\\u003cbr\\u003e\\u003cb\\u003eOuter Casing:\\u003c\\/b\\u003e Silver Plated 316L Stainless Steel\\u003cbr\\u003e \\u003cb\\u003eMovement:\\u003c\\/b\\u003e Miyota Quartz Movement\\u003cbr\\u003e\\u003cb\\u003eGlass:\\u003c\\/b\\u003e Scratch Resistant Sapphire Crystal\\u003cbr\\u003e \\u003cb\\u003eWater Proof:\\u003c\\/b\\u003e 100 meters\\u003cbr\\u003e \\u003cb\\u003eDial Diameter \\u0026amp; Thickness:\\u003c\\/b\\u003e 39mm \\u0026amp; 7.9mm\\u003cbr\\u003e\\u003cspan class=\\\"straplabelcontainer\\\"\\u003e\\u003cb\\u003eSTRAP CHOICE:\\u003c\\/b\\u003e \\u003cspan class=\\\"straplabel\\\"\\u003e\\u003c\\/span\\u003e\\u003c\\/span\\u003e\\n\\u003c\\/div\\u003e\",\"published_at\":\"2015-02-21T17:12:00+00:00\",\"created_at\":\"2015-02-21T11:40:01+00:00\",\"vendor\":\"Online Store\",\"type\":\"Watch\",\"tags\":[\"faces\",\"Project 2\"],\"price\":12500,\"price_min\":12500,\"price_max\":12500,\"available\":true,\"price_varies\":false,\"compare_at_price\":null,\"compare_at_price_min\":0,\"compare_at_price_max\":0,\"compare_at_price_varies\":false,\"variants\":[{\"id\":1177668856,\"title\":\"Watch\",\"options\":[\"Watch\"],\"option1\":\"Watch\",\"option2\":null,\"option3\":null,\"price\":12500,\"weight\":0,\"compare_at_price\":null,\"inventory_quantity\":333,\"inventory_management\":\"shopify\",\"inventory_policy\":\"continue\",\"available\":true,\"sku\":\"P2SS\",\"requires_shipping\":true,\"taxable\":true,\"barcode\":\"5060412360425\",\"featured_image\":{\"id\":1272001236,\"product_id\":430796128,\"position\":6,\"created_at\":\"2015-03-25T18:14:08+00:00\",\"updated_at\":\"2015-06-16T14:38:49+01:00\",\"src\":\"https:\\/\\/cdn.shopify.com\\/s\\/files\\/1\\/0716\\/2745\\/products\\/facecowes.jpg?v=1434461929\",\"variant_ids\":[1177668856]}}],\"images\":[\"\\/\\/cdn.shopify.com\\/s\\/files\\/1\\/0716\\/2745\\/products\\/Cowes_with_Black_Leather_Strap.jpg?v=1434461929\",\"\\/\\/cdn.shopify.com\\/s\\/files\\/1\\/0716\\/2745\\/products\\/Cowes_with_Black_Leather_Strap_5.jpg?v=1434461929\",\"\\/\\/cdn.shopify.com\\/s\\/files\\/1\\/0716\\/2745\\/products\\/Cowes_with_Black_Leather_Strap_3.jpg?v=1434461929\",\"\\/\\/cdn.shopify.com\\/s\\/files\\/1\\/0716\\/2745\\/products\\/Cowes_with_black_leather_strap_6.jpg?v=1434461929\",\"\\/\\/cdn.shopify.com\\/s\\/files\\/1\\/0716\\/2745\\/products\\/Cowes_with_black_leather_strap_4.jpg?v=1434461929\",\"\\/\\/cdn.shopify.com\\/s\\/files\\/1\\/0716\\/2745\\/products\\/facecowes.jpg?v=1434461929\"],\"featured_image\":\"\\/\\/cdn.shopify.com\\/s\\/files\\/1\\/0716\\/2745\\/products\\/Cowes_with_Black_Leather_Strap.jpg?v=1434461929\",\"options\":[\"Title\"],\"content\":\"\\u003cdiv class=\\\"short\\\"\\u003eBrushed Silver\\u003cbr\\u003e Silver Face\\u003c\\/div\\u003e\\n\\u003cdiv class=\\\"long\\\"\\u003eInspired by the look of venerable explorer watches, our watches are designed to mirror vintage timepieces with modern design features and are fully equipped to both stand out and weather the demands of a modern lifestyle.\\u003cbr\\u003e\\u003cbr\\u003e\\u003cb\\u003eOuter Casing:\\u003c\\/b\\u003e Silver Plated 316L Stainless Steel\\u003cbr\\u003e \\u003cb\\u003eMovement:\\u003c\\/b\\u003e Miyota Quartz Movement\\u003cbr\\u003e\\u003cb\\u003eGlass:\\u003c\\/b\\u003e Scratch Resistant Sapphire Crystal\\u003cbr\\u003e \\u003cb\\u003eWater Proof:\\u003c\\/b\\u003e 100 meters\\u003cbr\\u003e \\u003cb\\u003eDial Diameter \\u0026amp; Thickness:\\u003c\\/b\\u003e 39mm \\u0026amp; 7.9mm\\u003cbr\\u003e\\u003cspan class=\\\"straplabelcontainer\\\"\\u003e\\u003cb\\u003eSTRAP CHOICE:\\u003c\\/b\\u003e \\u003cspan class=\\\"straplabel\\\"\\u003e\\u003c\\/span\\u003e\\u003c\\/span\\u003e\\n\\u003c\\/div\\u003e\"}, onVariantSelected: selectCallback });\n",
      "  // Add label if only one product option and it isn't 'Title'.\n",
      "  \n",
      "  // Auto-select first available variant on page load.\n",
      "  \n",
      "  \n",
      "    \n",
      "      \n",
      "      \n",
      "      $('.single-option-selector:eq(0)').val(\"Watch\").trigger('change');\n",
      "      \n",
      "    \n",
      "  \n",
      "  \n",
      "  \t$('.choosecolour.watch').each(function()\n",
      "    {\n",
      "      \t$(this).click(function(){\n",
      "    \t\t$('.choosecolour').removeClass('active');\n",
      "          \t$(this).addClass('active');\n",
      "          \t$('#product-select option[value=\"' + $(this).data('id') + '\"]').prop('selected', true);\n",
      "          \t$('#additionalstrapval').val($(this).data('title'));\n",
      "          \t$('#additionalstrapsku').val($(this).data('id'));\n",
      "        });\n",
      "\t});\n",
      "   \n",
      "  \t\n",
      "   \tif($('.choosecolour.strap').length)\n",
      "   \t{\n",
      "      \t$('#product-select-option-0').change(function()\n",
      "\t\t{\n",
      "          \tnewValue = $(this).val();\n",
      "          \n",
      "          \t$('.choosecolour.strap').removeClass(\"active\");\n",
      "          \n",
      "          \tswitch($('#product-select-option-0')[0].selectedIndex) {\n",
      "                case 1:\n",
      "                    className \t= 'b';\n",
      "                \tslideNumber\t= 2;\n",
      "                    break;\n",
      "                case 2:\n",
      "                    className \t= 'c';\n",
      "                \tslideNumber\t= 4;\n",
      "                    break;\n",
      "                case 3:\n",
      "                    className \t= 'd';\n",
      "                \tslideNumber\t= 6;\n",
      "                    break;\n",
      "                default:\n",
      "                    className \t= 'a';\n",
      "                \tslideNumber\t= 0;\n",
      "            }\n",
      "          \n",
      "          \t//mobiles\n",
      "          \t$('.a, .b, .c, .d').hide();\n",
      "          \tslider.destroySlider();\n",
      "          \t$('.' + className).show();\n",
      "          \tslider\t= $('.' + className + ' .strapscarousel').bxSlider({controls:false});\n",
      "          \t//$('.strapscarousel').bxSlider({controls:false});\n",
      "          \n",
      "          \t//desktop\n",
      "            $('#gallery .preview').hide();\n",
      "          \t$('#gallery .preview').removeClass('active');\n",
      "          \t$('#gallery .preview.' + className).css('display', 'block');\n",
      "          \t$('#gallery .preview.' + className + ':first').addClass('active');\n",
      "          \t$('.smallimage').filter(':visible').filter(':first').trigger('click')\n",
      "\t\t\t\n",
      "          \t$.each($('.choosecolour.strap'), function(index, el)\n",
      "            {\n",
      "            \tdataValue = $(el).data(\"title\");\n",
      "            \n",
      "            \tif(newValue == dataValue)\n",
      "            \t{\n",
      "              \t\t$(el).addClass(\"active\");\n",
      "              \t\t$(el).trigger('click');\n",
      "            \t}\n",
      "          \t});\n",
      "          window.setTimeout(function(){\n",
      "         \t$('.zoomContainer').remove();\n",
      "     \t\t$('#feature-image').removeData('elevateZoom');\n",
      "            $(\"#feature-image\").elevateZoom({zoomWindowOffety: -40,\n",
      "              zoomType : \"inner\",\n",
      "              cursor: \"crosshair\", responsive:true\n",
      "          \t});\n",
      "          \n",
      "          }, 1000);\n",
      "      \t});\n",
      "   \t}\n",
      "   \n",
      "   \n",
      "   $('.smallimage').click(function(){\n",
      "     \t$('.zoomContainer').remove();\n",
      "     \t$('#feature-image').removeData('elevateZoom');\n",
      "     \t$('#gallery .preview').removeClass('active');\n",
      "     \t$(this).parent('.preview').addClass('active');\n",
      "     \t$('#feature-image').prop('src', $(this).data('big'));\n",
      "     \t$('.mobile').prop('src', $(this).data('big'));\n",
      "     \t$('#feature-image').data('zoom-image', $(this).data('big'));\n",
      "     \tclickIndex\t= $(this).data('index');\n",
      "     \t$(\"#feature-image\").elevateZoom({zoomWindowOffety: -40,\n",
      "          \tzoomType : \"inner\",\n",
      "\t\t\tcursor: \"crosshair\", responsive:true\n",
      "        });\n",
      "     \n",
      "   });\n",
      "   var clasp\t\t\t= \"Gold Clasp\";\n",
      "   var clickIndex\t\t= 1;\n",
      "   var imagesPerStrap\t= 3;\n",
      "   \n",
      "   var preloads = [];\n",
      "   var fancyImages = [];\n",
      "    \n",
      "  \t\tpreloads.push('//cdn.shopify.com/s/files/1/0716/2745/products/Cowes_with_Black_Leather_Strap.jpg?v=1434461929');\n",
      "        fancyImages.push({href : '//cdn.shopify.com/s/files/1/0716/2745/products/Cowes_with_Black_Leather_Strap.jpg?v=1434461929'});\n",
      "    \n",
      "  \t\tpreloads.push('//cdn.shopify.com/s/files/1/0716/2745/products/Cowes_with_Black_Leather_Strap_5.jpg?v=1434461929');\n",
      "        fancyImages.push({href : '//cdn.shopify.com/s/files/1/0716/2745/products/Cowes_with_Black_Leather_Strap_5.jpg?v=1434461929'});\n",
      "    \n",
      "  \t\tpreloads.push('//cdn.shopify.com/s/files/1/0716/2745/products/Cowes_with_Black_Leather_Strap_3.jpg?v=1434461929');\n",
      "        fancyImages.push({href : '//cdn.shopify.com/s/files/1/0716/2745/products/Cowes_with_Black_Leather_Strap_3.jpg?v=1434461929'});\n",
      "    \n",
      "  \t\tpreloads.push('//cdn.shopify.com/s/files/1/0716/2745/products/Cowes_with_black_leather_strap_6.jpg?v=1434461929');\n",
      "        fancyImages.push({href : '//cdn.shopify.com/s/files/1/0716/2745/products/Cowes_with_black_leather_strap_6.jpg?v=1434461929'});\n",
      "    \n",
      "  \t\tpreloads.push('//cdn.shopify.com/s/files/1/0716/2745/products/Cowes_with_black_leather_strap_4.jpg?v=1434461929');\n",
      "        fancyImages.push({href : '//cdn.shopify.com/s/files/1/0716/2745/products/Cowes_with_black_leather_strap_4.jpg?v=1434461929'});\n",
      "    \n",
      "  \t\tpreloads.push('//cdn.shopify.com/s/files/1/0716/2745/products/facecowes.jpg?v=1434461929');\n",
      "        fancyImages.push({href : '//cdn.shopify.com/s/files/1/0716/2745/products/facecowes.jpg?v=1434461929'});\n",
      "    \n",
      "    $(preloads).each(function(){\n",
      "      \timg \t= new Image()\n",
      "    \timg.src = this;\n",
      "    });\n",
      "\t\n",
      "  \t$('.shippinginfo').popover({animation:true,html:true, placement:'auto left'});\n",
      "  \n",
      "  \tif($('#product-select-option-0').length)\n",
      "    {\n",
      "      \tif($('#product-select-option-0')[0].length == 1)\n",
      "        {\n",
      "         \t$('#product-select-option-0').hide(); \n",
      "        }\n",
      "    }\n",
      "});\n",
      "\n"
     ]
    }
   ],
   "source": [
    "# I cheated a bit, I know where the interesting bit of Javascript is...\n",
    "jssnippet = selector.xpath('.//comment()[.=\"END PRODUCT\"]/following-sibling::script[1]/text()').extract_first()\n",
    "print jssnippet"
   ]
  },
  {
   "cell_type": "code",
   "execution_count": 80,
   "metadata": {
    "collapsed": true
   },
   "outputs": [],
   "source": [
    "# we're interesting in \"new Shopify.OptionSelectors...\""
   ]
  },
  {
   "cell_type": "code",
   "execution_count": 84,
   "metadata": {
    "collapsed": false
   },
   "outputs": [],
   "source": [
    "import js2xml\n",
    "\n",
    "jstree = js2xml.parse(jssnippet)"
   ]
  },
  {
   "cell_type": "code",
   "execution_count": 96,
   "metadata": {
    "collapsed": false
   },
   "outputs": [],
   "source": [
    "# 2nd argument of the \"new\" construct\n",
    "#objs = jstree.xpath('//*/arguments[string=\"product-select\"]/*[2]')\n",
    "objs = jstree.xpath('//arguments/string[.=\"product-select\"]/following-sibling::*[1]')"
   ]
  },
  {
   "cell_type": "code",
   "execution_count": 97,
   "metadata": {
    "collapsed": false
   },
   "outputs": [
    {
     "data": {
      "text/plain": [
       "{'onVariantSelected': 'selectCallback',\n",
       " 'product': {'available': True,\n",
       "  'compare_at_price': None,\n",
       "  'compare_at_price_max': 0,\n",
       "  'compare_at_price_min': 0,\n",
       "  'compare_at_price_varies': False,\n",
       "  'content': '<div class=\"short\">Brushed Silver<br> Silver Face</div>\\n<div class=\"long\">Inspired by the look of venerable explorer watches, our watches are designed to mirror vintage timepieces with modern design features and are fully equipped to both stand out and weather the demands of a modern lifestyle.<br><br><b>Outer Casing:</b> Silver Plated 316L Stainless Steel<br> <b>Movement:</b> Miyota Quartz Movement<br><b>Glass:</b> Scratch Resistant Sapphire Crystal<br> <b>Water Proof:</b> 100 meters<br> <b>Dial Diameter &amp; Thickness:</b> 39mm &amp; 7.9mm<br><span class=\"straplabelcontainer\"><b>STRAP CHOICE:</b> <span class=\"straplabel\"></span></span>\\n</div>',\n",
       "  'created_at': '2015-02-21T11:40:01+00:00',\n",
       "  'description': '<div class=\"short\">Brushed Silver<br> Silver Face</div>\\n<div class=\"long\">Inspired by the look of venerable explorer watches, our watches are designed to mirror vintage timepieces with modern design features and are fully equipped to both stand out and weather the demands of a modern lifestyle.<br><br><b>Outer Casing:</b> Silver Plated 316L Stainless Steel<br> <b>Movement:</b> Miyota Quartz Movement<br><b>Glass:</b> Scratch Resistant Sapphire Crystal<br> <b>Water Proof:</b> 100 meters<br> <b>Dial Diameter &amp; Thickness:</b> 39mm &amp; 7.9mm<br><span class=\"straplabelcontainer\"><b>STRAP CHOICE:</b> <span class=\"straplabel\"></span></span>\\n</div>',\n",
       "  'featured_image': '//cdn.shopify.com/s/files/1/0716/2745/products/Cowes_with_Black_Leather_Strap.jpg?v=1434461929',\n",
       "  'handle': 'cowes',\n",
       "  'id': 430796128,\n",
       "  'images': ['//cdn.shopify.com/s/files/1/0716/2745/products/Cowes_with_Black_Leather_Strap.jpg?v=1434461929',\n",
       "   '//cdn.shopify.com/s/files/1/0716/2745/products/Cowes_with_Black_Leather_Strap_5.jpg?v=1434461929',\n",
       "   '//cdn.shopify.com/s/files/1/0716/2745/products/Cowes_with_Black_Leather_Strap_3.jpg?v=1434461929',\n",
       "   '//cdn.shopify.com/s/files/1/0716/2745/products/Cowes_with_black_leather_strap_6.jpg?v=1434461929',\n",
       "   '//cdn.shopify.com/s/files/1/0716/2745/products/Cowes_with_black_leather_strap_4.jpg?v=1434461929',\n",
       "   '//cdn.shopify.com/s/files/1/0716/2745/products/facecowes.jpg?v=1434461929'],\n",
       "  'options': ['Title'],\n",
       "  'price': 12500,\n",
       "  'price_max': 12500,\n",
       "  'price_min': 12500,\n",
       "  'price_varies': False,\n",
       "  'published_at': '2015-02-21T17:12:00+00:00',\n",
       "  'tags': ['faces', 'Project 2'],\n",
       "  'title': 'Cowes',\n",
       "  'type': 'Watch',\n",
       "  'variants': [{'available': True,\n",
       "    'barcode': '5060412360425',\n",
       "    'compare_at_price': None,\n",
       "    'featured_image': {'created_at': '2015-03-25T18:14:08+00:00',\n",
       "     'id': 1272001236,\n",
       "     'position': 6,\n",
       "     'product_id': 430796128,\n",
       "     'src': 'https://cdn.shopify.com/s/files/1/0716/2745/products/facecowes.jpg?v=1434461929',\n",
       "     'updated_at': '2015-06-16T14:38:49+01:00',\n",
       "     'variant_ids': [1177668856]},\n",
       "    'id': 1177668856,\n",
       "    'inventory_management': 'shopify',\n",
       "    'inventory_policy': 'continue',\n",
       "    'inventory_quantity': 333,\n",
       "    'option1': 'Watch',\n",
       "    'option2': None,\n",
       "    'option3': None,\n",
       "    'options': ['Watch'],\n",
       "    'price': 12500,\n",
       "    'requires_shipping': True,\n",
       "    'sku': 'P2SS',\n",
       "    'taxable': True,\n",
       "    'title': 'Watch',\n",
       "    'weight': 0}],\n",
       "  'vendor': 'Online Store'}}"
      ]
     },
     "execution_count": 97,
     "metadata": {},
     "output_type": "execute_result"
    }
   ],
   "source": [
    "js2xml.jsonlike.make_dict(objs[0])"
   ]
  },
  {
   "cell_type": "markdown",
   "metadata": {},
   "source": [
    "### Google maps examples"
   ]
  },
  {
   "cell_type": "code",
   "execution_count": 119,
   "metadata": {
    "collapsed": false
   },
   "outputs": [
    {
     "data": {
      "text/plain": [
       "[{'lat': -25.363, 'lng': 131.044},\n",
       " {'center': 'myLatLng', 'zoom': 4},\n",
       " {'map': 'map', 'position': 'myLatLng', 'title': 'Hello World!'}]"
      ]
     },
     "execution_count": 119,
     "metadata": {},
     "output_type": "execute_result"
    }
   ],
   "source": [
    "import js2xml\n",
    "import parsel\n",
    "\n",
    "htmlsource = r\"\"\"<html>\n",
    "  <!-- from https://developers.google.com/maps/documentation/javascript/examples/marker-simple -->\n",
    "  <body>\n",
    "    <div id=\"map\"></div>\n",
    "    <script>\n",
    "function initMap() {\n",
    "  var myLatLng = {lat: -25.363, lng: 131.044};\n",
    "  var map = new google.maps.Map(document.getElementById('map'), {\n",
    "    zoom: 4,\n",
    "    center: myLatLng\n",
    "  });\n",
    "  var marker = new google.maps.Marker({\n",
    "    position: myLatLng,\n",
    "    map: map,\n",
    "    title: 'Hello World!'\n",
    "  });\n",
    "}\n",
    "    </script>\n",
    "  </body>\n",
    "</html>\"\"\"\n",
    "\n",
    "selector = parsel.Selector(text=htmlsource.decode('utf8'))\n",
    "jssnippet = selector.css('div#map + script::text').extract_first()\n",
    "jstree = js2xml.parse(jssnippet)\n",
    "\n",
    "js2xml.jsonlike.getall(jstree)"
   ]
  },
  {
   "cell_type": "code",
   "execution_count": 120,
   "metadata": {
    "collapsed": false
   },
   "outputs": [
    {
     "data": {
      "text/plain": [
       "{'lat': -25.363, 'lng': 131.044}"
      ]
     },
     "execution_count": 120,
     "metadata": {},
     "output_type": "execute_result"
    }
   ],
   "source": [
    "js2xml.jsonlike.make_dict(jstree.xpath('//object[1]')[0])"
   ]
  },
  {
   "cell_type": "markdown",
   "metadata": {
    "collapsed": true
   },
   "source": [
    "## EXSLT set operations"
   ]
  },
  {
   "cell_type": "code",
   "execution_count": 2,
   "metadata": {
    "collapsed": true
   },
   "outputs": [],
   "source": [
    "\"\"\"\n",
    "Microdata parser\n",
    "\n",
    "Piece of code extracted form:\n",
    "* http://blog.scrapinghub.com/2014/06/18/extracting-schema-org-microdata-using-scrapy-selectors-and-xpath/\n",
    "\n",
    "Ported to lxml\n",
    "follows http://www.w3.org/TR/microdata/#json\n",
    "\n",
    "\"\"\"\n",
    "\n",
    "import collections\n",
    "import urlparse\n",
    "\n",
    "import lxml.etree\n",
    "import lxml.html\n",
    "\n",
    "\n",
    "class MicrodataExtractor(object):\n",
    "    _xp_item = lxml.etree.XPath('descendant-or-self::*[@itemscope]')\n",
    "    _xp_prop = lxml.etree.XPath(\"\"\"set:difference(.//*[@itemprop],\n",
    "                                                  .//*[@itemscope]//*[@itemprop])\"\"\",\n",
    "                                namespaces = {\"set\": \"http://exslt.org/sets\"})\n",
    "    _xp_item_docid = lxml.etree.XPath(\"\"\"count(preceding::*[@itemscope])\n",
    "                                        + count(ancestor::*[@itemscope])\n",
    "                                        + 1\"\"\")\n",
    "\n",
    "    def __init__(self, nested=True):\n",
    "        self.nested = nested\n",
    "\n",
    "    def get_docid(self, node):\n",
    "        return int(self._xp_item_docid(node))\n",
    "\n",
    "    def extract(self, htmlstring, url='http://www.example.com/', encoding=\"UTF-8\"):\n",
    "        self.url = url\n",
    "        self.items_seen = set()\n",
    "        parser = lxml.html.HTMLParser(encoding=encoding)\n",
    "        lxmldoc = lxml.html.fromstring(htmlstring, parser=parser)\n",
    "        return self.extract_items(lxmldoc)\n",
    "\n",
    "    def extract_items(self, document):\n",
    "        return {\"items\" : filter(bool, [self.extract_item(item)\n",
    "                                        for item in self._xp_item(document)])}\n",
    "\n",
    "    def extract_item(self, node):\n",
    "        itemid = self.get_docid(node)\n",
    "\n",
    "        if self.nested:\n",
    "            if itemid in self.items_seen:\n",
    "                return\n",
    "            self.items_seen.add(itemid)\n",
    "\n",
    "        item = {}\n",
    "        if not self.nested:\n",
    "            item[\"iid\"] = itemid\n",
    "        types = node.get('itemtype', '').split()\n",
    "        if types:\n",
    "            item[\"type\"] = types\n",
    "\n",
    "            itemid = node.get('itemid')\n",
    "            if itemid:\n",
    "                item[\"id\"] = itemid.strip()\n",
    "\n",
    "        properties = collections.defaultdict(list)\n",
    "        for name, value in self.extract_properties(node):\n",
    "            properties[name].append(value)\n",
    "\n",
    "        props = []\n",
    "        for (name, values) in properties.items():\n",
    "            if len(values) == 1:\n",
    "                props.append((name, values[0]))\n",
    "            else:\n",
    "                props.append((name, values))\n",
    "\n",
    "        item[\"properties\"] = dict(props)\n",
    "\n",
    "        # not in the specs, but can be handy\n",
    "        #textContent = self.extract_textContent(node)\n",
    "        #if textContent:\n",
    "            #item[\"textContent\"] = textContent\n",
    "\n",
    "        return item\n",
    "\n",
    "    def extract_properties(self, node):\n",
    "        for prop in self._xp_prop(node):\n",
    "            for p, v in self.extract_property(prop):\n",
    "                yield p, v\n",
    "\n",
    "    def extract_property(self, node):\n",
    "        props = node.get(\"itemprop\").split()\n",
    "        value = self.extract_property_value(node)\n",
    "        return [(p, value) for p in props]\n",
    "\n",
    "    def extract_property_value(self, node):\n",
    "        #http://www.w3.org/TR/microdata/#values\n",
    "        if node.get(\"itemscope\") is not None:\n",
    "            if self.nested:\n",
    "                return self.extract_item(node)\n",
    "            else:\n",
    "                return {\"iid_ref\": self.get_docid(node)}\n",
    "\n",
    "        elif node.tag == \"meta\":\n",
    "            return node.get(\"content\", \"\")\n",
    "\n",
    "        elif node.tag in (\"audio\", \"embed\", \"iframe\", \"img\", \"source\", \"track\", \"video\"):\n",
    "            return urlparse.urljoin(self.url, node.get(\"src\", \"\"))\n",
    "\n",
    "        elif node.tag in (\"a\", \"area\", \"link\"):\n",
    "            return urlparse.urljoin(self.url, node.get(\"href\", \"\"))\n",
    "\n",
    "        elif node.tag in (\"object\",):\n",
    "            return node.get(\"data\", \"\")\n",
    "\n",
    "        elif node.tag in (\"data\", \"meter\"):\n",
    "            return node.get(\"value\", \"\")\n",
    "\n",
    "        elif node.tag in (\"time\",):\n",
    "            return node.get(\"datetime\", \"\")\n",
    "\n",
    "        # not in W3C specs but used in schema.org examples\n",
    "        elif node.get(\"content\"):\n",
    "            return node.get(\"content\")\n",
    "\n",
    "        else:\n",
    "            return self.extract_textContent(node)\n",
    "\n",
    "    def extract_textContent(self, node):\n",
    "        return lxml.html.tostring(node, method=\"text\", encoding=unicode,\n",
    "                    with_tail=False).strip()"
   ]
  },
  {
   "cell_type": "code",
   "execution_count": 3,
   "metadata": {
    "collapsed": true
   },
   "outputs": [],
   "source": [
    "h = \"\"\"<div itemscope itemtype =\"http://schema.org/Movie\">\n",
    "  <h1 itemprop=\"name\">Avatar</h1>\n",
    "  <div itemprop=\"director\" itemscope itemtype=\"http://schema.org/Person\">\n",
    "  Director: <span itemprop=\"name\">James Cameron</span> (born <span itemprop=\"birthDate\">August 16, 1954</span>)\n",
    "  </div>\n",
    "  <span itemprop=\"genre\">Science fiction</span>\n",
    "  <a href=\"../movies/avatar-theatrical-trailer.html\" itemprop=\"trailer\">Trailer</a>\n",
    "</div>\"\"\""
   ]
  },
  {
   "cell_type": "code",
   "execution_count": 7,
   "metadata": {
    "collapsed": false
   },
   "outputs": [
    {
     "name": "stdout",
     "output_type": "stream",
     "text": [
      "{'items': [{'properties': {'director': {'properties': {'birthDate': u'August 16, 1954',\n",
      "                                                       'name': u'James Cameron'},\n",
      "                                        'type': ['http://schema.org/Person']},\n",
      "                           'genre': u'Science fiction',\n",
      "                           'name': u'Avatar',\n",
      "                           'trailer': 'http://www.example.com/../movies/avatar-theatrical-trailer.html'},\n",
      "            'type': ['http://schema.org/Movie']}]}\n"
     ]
    }
   ],
   "source": [
    "import pprint\n",
    "\n",
    "mde = MicrodataExtractor()\n",
    "pprint.pprint(mde.extract(h))"
   ]
  },
  {
   "cell_type": "code",
   "execution_count": null,
   "metadata": {
    "collapsed": true
   },
   "outputs": [],
   "source": []
  }
 ],
 "metadata": {
  "kernelspec": {
   "display_name": "Python 2",
   "language": "python",
   "name": "python2"
  },
  "language_info": {
   "codemirror_mode": {
    "name": "ipython",
    "version": 2
   },
   "file_extension": ".py",
   "mimetype": "text/x-python",
   "name": "python",
   "nbconvert_exporter": "python",
   "pygments_lexer": "ipython2",
   "version": "2.7.9"
  }
 },
 "nbformat": 4,
 "nbformat_minor": 0
}
